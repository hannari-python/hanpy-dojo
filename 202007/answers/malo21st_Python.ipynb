{
 "cells": [
  {
   "cell_type": "markdown",
   "metadata": {},
   "source": [
    "# 問題１ ループ練習\n",
    "\n",
    "Hello World![改行]を5回表示させてください。print(或いはprintf,cout等)を5回コピーすれば当然可能ですが、 ループ構文(for,while等)を利用して、print等は1回の使用にとどめてみてください。"
   ]
  },
  {
   "cell_type": "code",
   "execution_count": 1,
   "metadata": {},
   "outputs": [
    {
     "name": "stdout",
     "output_type": "stream",
     "text": [
      "Hello world!\n",
      "Hello world!\n",
      "Hello world!\n",
      "Hello world!\n",
      "Hello world!\n"
     ]
    }
   ],
   "source": [
    "for i in range(5):\n",
    "    print('Hello world!')"
   ]
  },
  {
   "cell_type": "markdown",
   "metadata": {},
   "source": [
    "# 問題2 FizzBuzz\n",
    "\n",
    "なんか偉い人が考えた問題 ルールは以下の通り\n",
    "\n",
    "- 1から順番に数を表示する\n",
    "- その数が3で割り切れるなら\"Fizz\"、5で割り切れるなら\"Buzz\"、両方で割り切れるなら\"FizzBuzz\"と表示する"
   ]
  },
  {
   "cell_type": "code",
   "execution_count": 2,
   "metadata": {},
   "outputs": [
    {
     "name": "stdout",
     "output_type": "stream",
     "text": [
      "1 2 Fizz 4 Buzz Fizz 7 8 Fizz Buzz 11 Fizz 13 14 FizzBuzz 16 17 Fizz 19 Buzz Fizz 22 23 Fizz Buzz 26 Fizz 28 29 FizzBuzz 31 32 Fizz 34 Buzz Fizz 37 38 Fizz Buzz 41 Fizz 43 44 FizzBuzz 46 47 Fizz 49 Buzz Fizz 52 53 Fizz Buzz 56 Fizz 58 59 FizzBuzz 61 62 Fizz 64 Buzz Fizz 67 68 Fizz Buzz 71 Fizz 73 74 FizzBuzz 76 77 Fizz 79 Buzz Fizz 82 83 Fizz Buzz 86 Fizz 88 89 FizzBuzz 91 92 Fizz 94 Buzz Fizz 97 98 Fizz Buzz "
     ]
    }
   ],
   "source": [
    "surplus15 = {0:\"FizzBuzz\", 3:\"Fizz\", 5:\"Buzz\", 6:\"Fizz\", 9:\"Fizz\", 10:\"Buzz\", 12:\"Fizz\"}\n",
    "\n",
    "for i in range(1,101):\n",
    "    print(surplus15.get(i % 15, i), end=\" \")"
   ]
  },
  {
   "cell_type": "markdown",
   "metadata": {},
   "source": [
    "# 問題3 うるう年測定\n",
    "\n",
    "入力された整数がグレゴリオ暦（いつも使ってるやつ）でうるう年であるか判定せよ\n",
    "\n",
    "### グレゴリオ暦では、次の規則に従って400年間に97回の閏年を設ける。\n",
    "- 西暦年が4で割り切れる年は(原則として)閏年。\n",
    "- ただし、西暦年が100で割り切れる年は(原則として)平年。\n",
    "- ただし、西暦年が400で割り切れる年は必ず閏年。"
   ]
  },
  {
   "cell_type": "code",
   "execution_count": 14,
   "metadata": {},
   "outputs": [
    {
     "name": "stdout",
     "output_type": "stream",
     "text": [
      "西暦：1992\n",
      "1992年はうるう年です\n",
      "西暦：2000\n",
      "2000年はうるう年です\n",
      "西暦：2001\n",
      "2001年はうるう年ではありません\n",
      "西暦：0\n",
      "0年はうるう年です\n"
     ]
    }
   ],
   "source": [
    "def is_uruu(year):\n",
    "    if (year % 4) == 0:\n",
    "        if (year % 400) == 0:\n",
    "            return True\n",
    "        elif (year % 100) == 0:\n",
    "            return False\n",
    "        else:\n",
    "            return True\n",
    "    else:\n",
    "        return False\n",
    "\n",
    "year = 1\n",
    "while year:\n",
    "    year = int(input('西暦：'))\n",
    "    if is_uruu(year):\n",
    "        print('{}年はうるう年です'.format(year))\n",
    "    else:\n",
    "        print('{}年はうるう年ではありません'.format(year))\n",
    "    "
   ]
  },
  {
   "cell_type": "markdown",
   "metadata": {},
   "source": [
    "# 問題4 「パトカー」＋「タクシー」＝「パタトクカシーー」\n",
    "\n",
    "- 「パトカー」＋「タクシー」の文字を先頭から交互に連結して文字列「パタトクカシーー」を得よ．\n",
    "- 「ハサミ」＋「ペンチ」の文字を先頭から交互に連結して文字列「ハペサンミチ」を得よ．\n",
    "- 「ブラシ」＋「シャモジ」の文字を先頭から交互に連結して文字列「ブシャラモシジ」を得よ．"
   ]
  },
  {
   "cell_type": "code",
   "execution_count": 23,
   "metadata": {},
   "outputs": [
    {
     "name": "stdout",
     "output_type": "stream",
     "text": [
      "パタトクカシーー\n",
      "ハペサンミチ\n",
      "ブシャラモシジ\n"
     ]
    }
   ],
   "source": [
    "# python 拗音 （ようおん）でググる。\n",
    "import re\n",
    "\n",
    "words1 = ['パトカー', 'ハサミ', 'ブラシ']\n",
    "words2 = ['タクシー', 'ペンチ', 'シャモジ']\n",
    "\n",
    "for word1, word2 in zip(words1, words2):\n",
    "    result =\"\"\n",
    "    for char1, char2 in zip(re.findall(r'.[ャュョ]?ッ?', word1), re.findall(r'.[ャュョ]?ッ?', word2)):\n",
    "        result = result + char1 + char2\n",
    "    print(result)"
   ]
  },
  {
   "cell_type": "markdown",
   "metadata": {},
   "source": [
    "# 問題5 元素記号\n",
    "\n",
    "### “Hi He Lied Because Boron Could Not Oxidize Fluorine. New Nations Might Also Sign Peace Security Clause. Arthur King Can.”\n",
    "\n",
    "という文を単語に分解し，1, 5, 6, 7, 8, 9, 15, 16, 19番目の単語は先頭の1文字，それ以外の単語は先頭の2文字を取り出し，取り出した文字列から単語の位置（先頭から何番目の単語か）への連想配列（辞書型もしくはマップ型）を作成せよ．"
   ]
  },
  {
   "cell_type": "code",
   "execution_count": 35,
   "metadata": {
    "scrolled": true
   },
   "outputs": [
    {
     "data": {
      "text/plain": [
       "{'H': 1,\n",
       " 'He': 2,\n",
       " 'Li': 3,\n",
       " 'Be': 4,\n",
       " 'B': 5,\n",
       " 'C': 6,\n",
       " 'N': 7,\n",
       " 'O': 8,\n",
       " 'F': 9,\n",
       " 'Ne': 10,\n",
       " 'Na': 11,\n",
       " 'Mi': 12,\n",
       " 'Al': 13,\n",
       " 'Si': 14,\n",
       " 'P': 15,\n",
       " 'S': 16,\n",
       " 'Cl': 17,\n",
       " 'Ar': 18,\n",
       " 'K': 19,\n",
       " 'Ca': 20}"
      ]
     },
     "execution_count": 35,
     "metadata": {},
     "output_type": "execute_result"
    }
   ],
   "source": [
    "word = \"Hi He Lied Because Boron Could Not Oxidize Fluorine. New Nations Might Also Sign Peace Security Clause. Arthur King Can.\"\n",
    "list_1char = [1, 5, 6, 7, 8, 9, 15, 16, 19]\n",
    "\n",
    "dic_elements = dict()\n",
    "for value, element in enumerate(word.split(), start=1):\n",
    "    if value in list_1char:\n",
    "        key = element[:1]\n",
    "    else:\n",
    "        key = element[:2]\n",
    "    dic_elements[key] = value\n",
    "dic_elements\n"
   ]
  },
  {
   "cell_type": "markdown",
   "metadata": {},
   "source": [
    "# 問題6 九九\n",
    "\n",
    " 1桁の数値（ 1 ～ 9 に限定）を２つ入力し、その積を表示するプログラムを作成しなさい。  \n",
    " ただし、九九の計算結果が入った配列を予め作成して利用すること。"
   ]
  },
  {
   "cell_type": "code",
   "execution_count": 44,
   "metadata": {},
   "outputs": [
    {
     "name": "stdout",
     "output_type": "stream",
     "text": [
      "i j > 2 4\n",
      "8\n",
      "i j > 7 4\n",
      "28\n",
      "i j > 9 0\n",
      "end\n"
     ]
    }
   ],
   "source": [
    "dic_99 = {(i, j):i*j for i in range(1,10) for j in range(1,10)}\n",
    "\n",
    "while True:\n",
    "    try:\n",
    "        [i, j] = map(int,input('i j > ').split())\n",
    "        print(dic_99[(i, j)])\n",
    "    except:\n",
    "        print('end')\n",
    "        break\n"
   ]
  },
  {
   "cell_type": "markdown",
   "metadata": {},
   "source": [
    "# 問題7 K-th Common Divisor\n",
    "\n",
    "- 正整数 A , B が与えられます。 \n",
    "- A も B も割り切る正整数のうち、 K 番目に大きいものを求めてください。 \n",
    "- なお、与えられる入力では、 A も B も割り切る正整数のうち K 番目に大きいものが存在することが保証されます。"
   ]
  },
  {
   "cell_type": "code",
   "execution_count": 54,
   "metadata": {},
   "outputs": [
    {
     "name": "stdout",
     "output_type": "stream",
     "text": [
      "A B K > 8 12 2\n",
      "2\n",
      "A B K > 100 50 4\n",
      "5\n",
      "A B K > 1\n",
      "end\n"
     ]
    }
   ],
   "source": [
    "def get_cm(a,b,k):\n",
    "    temp = []\n",
    "    i_min = min(a,b)\n",
    "    i_max = max(a,b)\n",
    "    for i in range(1, i_min+1):\n",
    "        if ((i_max % i)==0) and ((i_min % i)==0):\n",
    "            temp.append(i)\n",
    "    return temp[::-1][k-1]\n",
    "\n",
    "while True:\n",
    "    try:\n",
    "        [a, b, k] = map(int,input('A B K > ').split())\n",
    "        print(get_cm(a, b, k))\n",
    "    except:\n",
    "        print('end')\n",
    "        break"
   ]
  },
  {
   "cell_type": "markdown",
   "metadata": {},
   "source": [
    "# 問題8 Guidebook\n",
    "\n",
    " あなたは美味しいレストランを紹介する本を書くことにしました。 あなたは N 個のレストラン、レストラン 1 、レストラン 2 、 … 、レストラン N を紹介しようとしています。レストラン i は S i 市にあり、あなたは 100 点満点中 P i 点と評価しています。 異なる 2 個のレストランに同じ点数がついていることはありません。\n",
    "\n",
    " この本では、次のような順でレストランを紹介しようとしています。\n",
    "\n",
    "- 市名が辞書順で早いものから紹介していく。\n",
    "- 同じ市に複数レストランがある場合は、点数が高いものから紹介していく。 この本で紹介される順にレストランの番号を出力してください。"
   ]
  },
  {
   "cell_type": "code",
   "execution_count": 117,
   "metadata": {
    "scrolled": true
   },
   "outputs": [
    {
     "name": "stdout",
     "output_type": "stream",
     "text": [
      "レストラン情報 > 6 khabarovsk 20 moscow 10 kazan 50 kazan 35 moscow 60 khabarovsk 40\n",
      "[3, 4, 6, 1, 5, 2]\n",
      "レストラン情報 > 10 yakutsk 10 yakutsk 20 yakutsk 30 yakutsk 40 yakutsk 50 yakutsk 60 yakutsk 70 yakutsk 80 yakutsk 90 yakutsk 100\n",
      "[10, 9, 8, 7, 6, 5, 4, 3, 2, 1]\n",
      "レストラン情報 > \n",
      "end\n"
     ]
    }
   ],
   "source": [
    "import numpy as np\n",
    "from scipy.stats import rankdata\n",
    "\n",
    "while True:\n",
    "    try:\n",
    "        [n, *city_point] = map(str,input('レストラン情報 > ').split())\n",
    "    except:\n",
    "        print('end')\n",
    "        break\n",
    "    city=[]\n",
    "    point=[]\n",
    "    while city_point:\n",
    "        value = city_point.pop(0)\n",
    "        try:\n",
    "            point.append(int(value))\n",
    "        except:\n",
    "            city.append(value)\n",
    "    np_city = rankdata(np.array(city))\n",
    "    np_point = rankdata(np.array(point))\n",
    "\n",
    "    np_c_p = np.array([10*c - p for c, p in zip(np_city, np_point)])\n",
    "    print([i+1 for i in np.argsort(np_c_p)])"
   ]
  },
  {
   "cell_type": "markdown",
   "metadata": {},
   "source": [
    "# 問題9 City Savers\n",
    "\n",
    "N + 1 個の街があり、 i 番目の街は A i 体のモンスターに襲われています。\n",
    "\n",
    "N 人の勇者が居て、 i 番目の勇者は i 番目または i + 1 番目の街を襲っているモンスターを合計で B i 体まで倒すことができます。\n",
    "\n",
    "N 人の勇者がうまく協力することで、合計して最大で何体のモンスターを倒せるでしょうか。"
   ]
  },
  {
   "cell_type": "code",
   "execution_count": 115,
   "metadata": {},
   "outputs": [
    {
     "name": "stdout",
     "output_type": "stream",
     "text": [
      "N A B > 2 3 5 2 4 5\n",
      "9\n",
      "N A B > 3 5 6 3 8 5 100 8\n",
      "22\n",
      "N A B > 2 100 1 1 1 100\n",
      "3\n",
      "N A B > \n",
      "end\n"
     ]
    }
   ],
   "source": [
    "while True:\n",
    "    try:\n",
    "        [n, *a_b] = map(int,input('N A B > ').split())\n",
    "    except:\n",
    "        print('end')\n",
    "        break\n",
    "    a = a_b[:-n]\n",
    "    b = a_b[-n:]\n",
    "    \n",
    "    mon = 0\n",
    "    a0 = a.pop(0)\n",
    "    for b1 in b:\n",
    "        a1 = a.pop(0)\n",
    "        a01 = a0 + a1\n",
    "        if a0 >= b1:\n",
    "            mon += b1\n",
    "            a0 = a1\n",
    "        elif a01 >= b1 > a0:\n",
    "            mon += b1\n",
    "            a0 = a01 - b1\n",
    "        elif b1 > a01:\n",
    "            mon += a01\n",
    "            a0 = 0\n",
    "    print(mon)\n",
    "        "
   ]
  },
  {
   "cell_type": "markdown",
   "metadata": {},
   "source": [
    "# 問題１0 Crested Ibis vs Monster\n",
    "\n",
    "トキはモンスターと戦っています。\n",
    "\n",
    "モンスターの体力は H です。\n",
    "\n",
    "トキは N 種類の魔法が使え、 i 番目の魔法を使うと、モンスターの体力を A i 減らすことができますが、トキの魔力を B i 消耗します。\n",
    "\n",
    "同じ魔法は何度でも使うことができます。魔法以外の方法でモンスターの体力を減らすことはできません。\n",
    "\n",
    "モンスターの体力を 0 以下にすればトキの勝ちです。\n",
    "\n",
    "トキがモンスターに勝つまでに消耗する魔力の合計の最小値を求めてください。"
   ]
  },
  {
   "cell_type": "code",
   "execution_count": 220,
   "metadata": {
    "scrolled": false
   },
   "outputs": [
    {
     "name": "stdout",
     "output_type": "stream",
     "text": [
      "N H [A,B] > 9999 10 540 7550 691 9680 700 9790 510 7150 415 5818 551 7712 587 8227 619 8671 588 8228 176 2461\n",
      "9459.0 7550.0 -540.0 7550.0\n",
      "8919.0 15100.0 -540.0 7550.0\n",
      "8379.0 22650.0 -540.0 7550.0\n",
      "7839.0 30200.0 -540.0 7550.0\n",
      "7299.0 37750.0 -540.0 7550.0\n",
      "6759.0 45300.0 -540.0 7550.0\n",
      "6219.0 52850.0 -540.0 7550.0\n",
      "5679.0 60400.0 -540.0 7550.0\n",
      "5139.0 67950.0 -540.0 7550.0\n",
      "4599.0 75500.0 -540.0 7550.0\n",
      "4059.0 83050.0 -540.0 7550.0\n",
      "3519.0 90600.0 -540.0 7550.0\n",
      "2979.0 98150.0 -540.0 7550.0\n",
      "2439.0 105700.0 -540.0 7550.0\n",
      "1899.0 113250.0 -540.0 7550.0\n",
      "1359.0 120800.0 -540.0 7550.0\n",
      "819.0 128350.0 -540.0 7550.0\n",
      "279.0 135900.0 -540.0 7550.0\n",
      "103.0 138361.0 -176.0 2461.0\n",
      "-73.0 140822.0 -176.0 2461.0\n",
      "140822.0\n",
      "N H [A,B] > \n",
      "end\n"
     ]
    }
   ],
   "source": [
    "import pandas as pd\n",
    "\n",
    "while True:\n",
    "    loss = 0\n",
    "    try:\n",
    "        [h, n, *a_b] = map(int,input('N H [A,B] > ').split())\n",
    "    except:\n",
    "        print('end')\n",
    "        break\n",
    "    \n",
    "    COLS = ['A','B','A/B']\n",
    "    df_data = pd.DataFrame(columns=COLS)\n",
    "    while a_b:\n",
    "        a = a_b.pop(0),\n",
    "        b = a_b.pop(0),\n",
    "        sr_data = pd.Series([\n",
    "            a[0],\n",
    "            b[0],\n",
    "            a[0]/b[0]\n",
    "        ], index=df_data.columns)\n",
    "        df_data = df_data.append(sr_data, ignore_index=True)\n",
    "        \n",
    "    lose = 0\n",
    "    while h > 0:\n",
    "        if h >= df_data[df_data['A']<=h]['A'].max():\n",
    "            df = df_data[df_data['A']<=h].sort_values(by=['A/B','B','A'], ascending=[False, True, False])\n",
    "        else:\n",
    "            df = df_data[df_data['A']>h].sort_values(by=['B','A'], ascending=[True, True])\n",
    "        h -= df.iloc[0, 0]\n",
    "        lose += df.iloc[0, 1]\n",
    "        print(h, lose, -df.iloc[0, 0], df.iloc[0, 1])\n",
    "    print(lose)        \n",
    "    "
   ]
  },
  {
   "cell_type": "code",
   "execution_count": 221,
   "metadata": {},
   "outputs": [
    {
     "data": {
      "text/html": [
       "<div>\n",
       "<style scoped>\n",
       "    .dataframe tbody tr th:only-of-type {\n",
       "        vertical-align: middle;\n",
       "    }\n",
       "\n",
       "    .dataframe tbody tr th {\n",
       "        vertical-align: top;\n",
       "    }\n",
       "\n",
       "    .dataframe thead th {\n",
       "        text-align: right;\n",
       "    }\n",
       "</style>\n",
       "<table border=\"1\" class=\"dataframe\">\n",
       "  <thead>\n",
       "    <tr style=\"text-align: right;\">\n",
       "      <th></th>\n",
       "      <th>A</th>\n",
       "      <th>B</th>\n",
       "      <th>A/B</th>\n",
       "    </tr>\n",
       "  </thead>\n",
       "  <tbody>\n",
       "    <tr>\n",
       "      <th>9</th>\n",
       "      <td>176.0</td>\n",
       "      <td>2461.0</td>\n",
       "      <td>0.071516</td>\n",
       "    </tr>\n",
       "    <tr>\n",
       "      <th>4</th>\n",
       "      <td>415.0</td>\n",
       "      <td>5818.0</td>\n",
       "      <td>0.071330</td>\n",
       "    </tr>\n",
       "    <tr>\n",
       "      <th>3</th>\n",
       "      <td>510.0</td>\n",
       "      <td>7150.0</td>\n",
       "      <td>0.071329</td>\n",
       "    </tr>\n",
       "    <tr>\n",
       "      <th>0</th>\n",
       "      <td>540.0</td>\n",
       "      <td>7550.0</td>\n",
       "      <td>0.071523</td>\n",
       "    </tr>\n",
       "    <tr>\n",
       "      <th>5</th>\n",
       "      <td>551.0</td>\n",
       "      <td>7712.0</td>\n",
       "      <td>0.071447</td>\n",
       "    </tr>\n",
       "    <tr>\n",
       "      <th>6</th>\n",
       "      <td>587.0</td>\n",
       "      <td>8227.0</td>\n",
       "      <td>0.071350</td>\n",
       "    </tr>\n",
       "    <tr>\n",
       "      <th>8</th>\n",
       "      <td>588.0</td>\n",
       "      <td>8228.0</td>\n",
       "      <td>0.071463</td>\n",
       "    </tr>\n",
       "    <tr>\n",
       "      <th>7</th>\n",
       "      <td>619.0</td>\n",
       "      <td>8671.0</td>\n",
       "      <td>0.071387</td>\n",
       "    </tr>\n",
       "    <tr>\n",
       "      <th>1</th>\n",
       "      <td>691.0</td>\n",
       "      <td>9680.0</td>\n",
       "      <td>0.071384</td>\n",
       "    </tr>\n",
       "    <tr>\n",
       "      <th>2</th>\n",
       "      <td>700.0</td>\n",
       "      <td>9790.0</td>\n",
       "      <td>0.071502</td>\n",
       "    </tr>\n",
       "  </tbody>\n",
       "</table>\n",
       "</div>"
      ],
      "text/plain": [
       "       A       B       A/B\n",
       "9  176.0  2461.0  0.071516\n",
       "4  415.0  5818.0  0.071330\n",
       "3  510.0  7150.0  0.071329\n",
       "0  540.0  7550.0  0.071523\n",
       "5  551.0  7712.0  0.071447\n",
       "6  587.0  8227.0  0.071350\n",
       "8  588.0  8228.0  0.071463\n",
       "7  619.0  8671.0  0.071387\n",
       "1  691.0  9680.0  0.071384\n",
       "2  700.0  9790.0  0.071502"
      ]
     },
     "execution_count": 221,
     "metadata": {},
     "output_type": "execute_result"
    }
   ],
   "source": [
    "df"
   ]
  },
  {
   "cell_type": "code",
   "execution_count": 222,
   "metadata": {},
   "outputs": [
    {
     "data": {
      "text/plain": [
       "1007"
      ]
     },
     "execution_count": 222,
     "metadata": {},
     "output_type": "execute_result"
    }
   ],
   "source": [
    "140822-139815\n"
   ]
  },
  {
   "cell_type": "code",
   "execution_count": 223,
   "metadata": {},
   "outputs": [
    {
     "data": {
      "text/plain": [
       "19470"
      ]
     },
     "execution_count": 223,
     "metadata": {},
     "output_type": "execute_result"
    }
   ],
   "source": [
    "9680+9790\n"
   ]
  },
  {
   "cell_type": "code",
   "execution_count": 224,
   "metadata": {},
   "outputs": [
    {
     "data": {
      "text/plain": [
       "20022"
      ]
     },
     "execution_count": 224,
     "metadata": {},
     "output_type": "execute_result"
    }
   ],
   "source": [
    "(7550+2461)*2"
   ]
  },
  {
   "cell_type": "code",
   "execution_count": 225,
   "metadata": {},
   "outputs": [
    {
     "data": {
      "text/plain": [
       "552"
      ]
     },
     "execution_count": 225,
     "metadata": {},
     "output_type": "execute_result"
    }
   ],
   "source": [
    "20022-19470"
   ]
  },
  {
   "cell_type": "code",
   "execution_count": 226,
   "metadata": {},
   "outputs": [
    {
     "data": {
      "text/plain": [
       "659"
      ]
     },
     "execution_count": 226,
     "metadata": {},
     "output_type": "execute_result"
    }
   ],
   "source": [
    "1359-700"
   ]
  },
  {
   "cell_type": "code",
   "execution_count": null,
   "metadata": {},
   "outputs": [],
   "source": []
  }
 ],
 "metadata": {
  "kernelspec": {
   "display_name": "Python 3",
   "language": "python",
   "name": "python3"
  },
  "language_info": {
   "codemirror_mode": {
    "name": "ipython",
    "version": 3
   },
   "file_extension": ".py",
   "mimetype": "text/x-python",
   "name": "python",
   "nbconvert_exporter": "python",
   "pygments_lexer": "ipython3",
   "version": "3.7.1"
  }
 },
 "nbformat": 4,
 "nbformat_minor": 2
}
