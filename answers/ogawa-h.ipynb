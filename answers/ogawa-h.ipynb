{
 "cells": [
  {
   "cell_type": "markdown",
   "metadata": {},
   "source": [
    "# Hanpy Dojo 20200117 問題\n",
    "- 自分の解きたいものだけ解いてもらってよいです\n",
    "- わからない場合、ググってもらえばよいですが、答えを直接探すのは自分のためになりません"
   ]
  },
  {
   "cell_type": "markdown",
   "metadata": {},
   "source": [
    "# 問題➊-1\n",
    "\n",
    "文字列 \"HanpyDojoatSpookies\" を作成し、その文字列を逆から表示しましょう。"
   ]
  },
  {
   "cell_type": "code",
   "execution_count": 3,
   "metadata": {},
   "outputs": [
    {
     "name": "stdout",
     "output_type": "stream",
     "text": [
      "seikoopStaojoDypnaH\n"
     ]
    }
   ],
   "source": [
    "hanpy= \"HanpyDojoatSpookies\"[::-1]\n",
    "print(hanpy)"
   ]
  },
  {
   "cell_type": "markdown",
   "metadata": {},
   "source": [
    "# 問題➊-2\n",
    "\n",
    "➊で作成した文字列を使い、前から奇数にある文字列と、偶数にある文字列を作成しましょう。"
   ]
  },
  {
   "cell_type": "code",
   "execution_count": 4,
   "metadata": {},
   "outputs": [
    {
     "name": "stdout",
     "output_type": "stream",
     "text": [
      "sioptooynH\n",
      "ekoSajDpa\n"
     ]
    }
   ],
   "source": [
    "even_str=\"\"\n",
    "odd_str=\"\"\n",
    "\n",
    "for i, w in enumerate(hanpy):\n",
    "    if i % 2 == 0:\n",
    "        even_str += w\n",
    "    else:\n",
    "        odd_str += w\n",
    "\n",
    "print(even_str)\n",
    "print(odd_str)"
   ]
  },
  {
   "cell_type": "code",
   "execution_count": null,
   "metadata": {},
   "outputs": [],
   "source": []
  },
  {
   "cell_type": "markdown",
   "metadata": {},
   "source": [
    "# 問題➋-1\n",
    "\n",
    "0～30までの数値が入ったリストを作成しましょう。"
   ]
  },
  {
   "cell_type": "code",
   "execution_count": 5,
   "metadata": {},
   "outputs": [
    {
     "name": "stdout",
     "output_type": "stream",
     "text": [
      "[0, 1, 2, 3, 4, 5, 6, 7, 8, 9, 10, 11, 12, 13, 14, 15, 16, 17, 18, 19, 20, 21, 22, 23, 24, 25, 26, 27, 28, 29, 30]\n"
     ]
    }
   ],
   "source": [
    "one_list = []\n",
    "for i in range(31):\n",
    "    one_list.append(i)\n",
    "\n",
    "print(one_list)"
   ]
  },
  {
   "cell_type": "code",
   "execution_count": null,
   "metadata": {},
   "outputs": [],
   "source": []
  },
  {
   "cell_type": "markdown",
   "metadata": {},
   "source": [
    "# 問題➋－2\n",
    "➋で作成したリストから、奇数のみのリストを作成しましょう。"
   ]
  },
  {
   "cell_type": "code",
   "execution_count": 6,
   "metadata": {},
   "outputs": [
    {
     "data": {
      "text/plain": [
       "[1, 3, 5, 7, 9, 11, 13, 15, 17, 19, 21, 23, 25, 27, 29]"
      ]
     },
     "execution_count": 6,
     "metadata": {},
     "output_type": "execute_result"
    }
   ],
   "source": [
    "[i for i in one_list if i % 2 ==1]"
   ]
  },
  {
   "cell_type": "code",
   "execution_count": null,
   "metadata": {},
   "outputs": [],
   "source": []
  },
  {
   "cell_type": "markdown",
   "metadata": {},
   "source": [
    "# 問題➌-1\n",
    "\n",
    "stringモジュールのascii_lettersを用いて、4文字のランダムな文字列を作成しましょう。"
   ]
  },
  {
   "cell_type": "code",
   "execution_count": 7,
   "metadata": {},
   "outputs": [
    {
     "data": {
      "text/plain": [
       "'VQno'"
      ]
     },
     "execution_count": 7,
     "metadata": {},
     "output_type": "execute_result"
    }
   ],
   "source": [
    "import string\n",
    "import random\n",
    "rand_words = random.choices(string.ascii_letters, k=4)\n",
    "\"\".join(rand_words)"
   ]
  },
  {
   "cell_type": "code",
   "execution_count": 8,
   "metadata": {},
   "outputs": [
    {
     "data": {
      "text/plain": [
       "'VQno'"
      ]
     },
     "execution_count": 8,
     "metadata": {},
     "output_type": "execute_result"
    }
   ],
   "source": [
    "random.sample(string.ascii_letters, 4)\n",
    "\"\".join(rand_words)"
   ]
  },
  {
   "cell_type": "markdown",
   "metadata": {},
   "source": [
    "# 問題➌-2\n",
    "ランダムな文字列を作る関数を作成してください。長さは引数で変更できるようにしましょう。"
   ]
  },
  {
   "cell_type": "code",
   "execution_count": 9,
   "metadata": {},
   "outputs": [],
   "source": [
    "def make_str(n):\n",
    "    rand_words=random.sample(string.ascii_letters, n)\n",
    "    return \"\".join(rand_words)"
   ]
  },
  {
   "cell_type": "code",
   "execution_count": 10,
   "metadata": {},
   "outputs": [
    {
     "data": {
      "text/plain": [
       "'HNlaYRAi'"
      ]
     },
     "execution_count": 10,
     "metadata": {},
     "output_type": "execute_result"
    }
   ],
   "source": [
    "make_str(8)"
   ]
  },
  {
   "cell_type": "markdown",
   "metadata": {},
   "source": [
    "# 問題➌-3\n",
    "\n",
    "➌-1の文字列を100個作成して、文字列の頭文字をキー、文字列を値に持つ辞書を作成してください\n"
   ]
  },
  {
   "cell_type": "code",
   "execution_count": 11,
   "metadata": {},
   "outputs": [],
   "source": [
    "words_list = []\n",
    "for i in range(100):\n",
    "    words_list.append(make_str(10))"
   ]
  },
  {
   "cell_type": "code",
   "execution_count": 12,
   "metadata": {},
   "outputs": [],
   "source": [
    "words_dict={}\n",
    "for i in words_list:\n",
    "    if i[0] in words_dict:\n",
    "        words_dict[i[0]].append(i)\n",
    "    else:\n",
    "        words_dict[i[0]] = [i]"
   ]
  },
  {
   "cell_type": "code",
   "execution_count": 13,
   "metadata": {},
   "outputs": [
    {
     "data": {
      "text/plain": [
       "{'z': ['zSWmivPqac'],\n",
       " 'c': ['cxFHCzXLIt', 'cGeOyKbxPV', 'cTwBoXkPxD', 'cdwyNVFAKl', 'cQVJHjqDmg'],\n",
       " 'q': ['qVzROIHMhA', 'qVALHGrJgB'],\n",
       " 'Y': ['YxnTFhvpWt', 'YUPshwMdJf', 'YOUPfqisGA'],\n",
       " 'C': ['CQyjnKFsYT', 'CzvyNTgnRH'],\n",
       " 'V': ['ViGvJoaPwK', 'VfMvLlPSbQ', 'VRJjuYMBkW', 'VXrBZLqijJ'],\n",
       " 'k': ['kIWMJtTHCw', 'kDgbHSqNdB'],\n",
       " 'M': ['MYjCteSPoW', 'MjefYJHvsh', 'MKJeGsdLVf', 'MNDJFeqQpE'],\n",
       " 'T': ['TOSbKAmozr', 'TEwpUZyIBD', 'TOyBNPuXZQ'],\n",
       " 'j': ['jZEqptPFiH', 'jpmluoghDB', 'joSdiAfGZg', 'jlkNZPpvSM', 'jEhCgxFQPI'],\n",
       " 's': ['sdRPSMqJQZ', 'sNcmifhvGp'],\n",
       " 'e': ['emEnJGVQDb'],\n",
       " 'Z': ['ZLjwyMpSeW', 'ZrBHUObKzE', 'ZKqdrEeYIp'],\n",
       " 'X': ['XcLCEGSZiq'],\n",
       " 'P': ['PtmpEzNjef', 'PtHaUcAsFn'],\n",
       " 'x': ['xqMIfVplBb', 'xnzmkOgHfU'],\n",
       " 'E': ['EvuMGpyYlh', 'EFLvKOwVDy'],\n",
       " 'S': ['SwzsClDUTF', 'SCLeuGFkwr', 'SikUWcoywK'],\n",
       " 'm': ['mJNRnZrLfS', 'mWPbldrwaq'],\n",
       " 'O': ['ORIqTsMUgK', 'OlsWmPucAI'],\n",
       " 'r': ['rLKAXBtElW', 'rfwjeqlUNH', 'rSVldpayuK'],\n",
       " 'U': ['UpRBYxqPQG', 'UfStQJTWrV'],\n",
       " 'n': ['nVoXZhcgBW', 'nElLVIQhuO'],\n",
       " 'W': ['WMplniPzBx', 'WJbYLIciaf', 'WfubHzgTRs'],\n",
       " 'Q': ['QVNbWPxhAL', 'QYsxmUHbFB'],\n",
       " 'K': ['KEZwrJTBbh', 'KClmnfNtSw', 'KsGdVvexUE', 'KDoMwiZhtb'],\n",
       " 'y': ['ytJrQNAkYL'],\n",
       " 'i': ['iVwTdBcthZ', 'iRmXwEjYeZ'],\n",
       " 't': ['trUDnpjmlf', 'tjzyhpsgWM', 'tiHUEfkAsl'],\n",
       " 'F': ['FLhdJUNIvy', 'FYoadgxhrc'],\n",
       " 'p': ['pdijzrBIDH', 'pZLyMcYUkH'],\n",
       " 'g': ['gunYltSZrb', 'golVAMeFHy', 'gAoLaitjpD', 'gWRirlsfwd'],\n",
       " 'b': ['bjFwQeziML', 'bJBkYhXErg'],\n",
       " 'H': ['HfFcYmCBKn', 'HZOCdEzYnG'],\n",
       " 'I': ['IuXDZcinOx', 'IJzGEYshvN'],\n",
       " 'f': ['foaJdFxipw'],\n",
       " 'v': ['vFSmEdnJoi', 'vWaMzwuTdf', 'vUaiWXgZOD'],\n",
       " 'l': ['lfCiFMgHxS'],\n",
       " 'L': ['LeiBfhdbQl'],\n",
       " 'A': ['AhfRTiFJeI'],\n",
       " 'G': ['GqChlrOZIM'],\n",
       " 'o': ['oXlPrdNsjz'],\n",
       " 'w': ['wVrnuveRWT'],\n",
       " 'd': ['duLNAKUhSt'],\n",
       " 'a': ['ayMHYSoTQv'],\n",
       " 'J': ['JxYXDKNtuG']}"
      ]
     },
     "execution_count": 13,
     "metadata": {},
     "output_type": "execute_result"
    }
   ],
   "source": [
    "words_dict"
   ]
  },
  {
   "cell_type": "markdown",
   "metadata": {},
   "source": [
    "# 問題➍　3と5の倍数\n",
    "http://odz.sakura.ne.jp/projecteuler/     \n",
    "10未満の自然数のうち, 3 もしくは 5 の倍数になっているものは 3, 5, 6, 9 の4つがあり, これらの合計は 23 になる.\n",
    "\n",
    "同じようにして, 1000 未満の 3 か 5 の倍数になっている数字の合計を求めよ."
   ]
  },
  {
   "cell_type": "code",
   "execution_count": 14,
   "metadata": {},
   "outputs": [
    {
     "data": {
      "text/plain": [
       "233168"
      ]
     },
     "execution_count": 14,
     "metadata": {},
     "output_type": "execute_result"
    }
   ],
   "source": [
    "sum([i for i in range(1,1000) if (i%3==0)|(i%5==0)])"
   ]
  },
  {
   "cell_type": "code",
   "execution_count": 15,
   "metadata": {
    "scrolled": true
   },
   "outputs": [
    {
     "data": {
      "text/plain": [
       "[3,\n",
       " 5,\n",
       " 6,\n",
       " 9,\n",
       " 10,\n",
       " 12,\n",
       " 15,\n",
       " 18,\n",
       " 20,\n",
       " 21,\n",
       " 24,\n",
       " 25,\n",
       " 27,\n",
       " 30,\n",
       " 33,\n",
       " 35,\n",
       " 36,\n",
       " 39,\n",
       " 40,\n",
       " 42,\n",
       " 45,\n",
       " 48,\n",
       " 50,\n",
       " 51,\n",
       " 54,\n",
       " 55,\n",
       " 57,\n",
       " 60,\n",
       " 63,\n",
       " 65,\n",
       " 66,\n",
       " 69,\n",
       " 70,\n",
       " 72,\n",
       " 75,\n",
       " 78,\n",
       " 80,\n",
       " 81,\n",
       " 84,\n",
       " 85,\n",
       " 87,\n",
       " 90,\n",
       " 93,\n",
       " 95,\n",
       " 96,\n",
       " 99,\n",
       " 100,\n",
       " 102,\n",
       " 105,\n",
       " 108,\n",
       " 110,\n",
       " 111,\n",
       " 114,\n",
       " 115,\n",
       " 117,\n",
       " 120,\n",
       " 123,\n",
       " 125,\n",
       " 126,\n",
       " 129,\n",
       " 130,\n",
       " 132,\n",
       " 135,\n",
       " 138,\n",
       " 140,\n",
       " 141,\n",
       " 144,\n",
       " 145,\n",
       " 147,\n",
       " 150,\n",
       " 153,\n",
       " 155,\n",
       " 156,\n",
       " 159,\n",
       " 160,\n",
       " 162,\n",
       " 165,\n",
       " 168,\n",
       " 170,\n",
       " 171,\n",
       " 174,\n",
       " 175,\n",
       " 177,\n",
       " 180,\n",
       " 183,\n",
       " 185,\n",
       " 186,\n",
       " 189,\n",
       " 190,\n",
       " 192,\n",
       " 195,\n",
       " 198,\n",
       " 200,\n",
       " 201,\n",
       " 204,\n",
       " 205,\n",
       " 207,\n",
       " 210,\n",
       " 213,\n",
       " 215,\n",
       " 216,\n",
       " 219,\n",
       " 220,\n",
       " 222,\n",
       " 225,\n",
       " 228,\n",
       " 230,\n",
       " 231,\n",
       " 234,\n",
       " 235,\n",
       " 237,\n",
       " 240,\n",
       " 243,\n",
       " 245,\n",
       " 246,\n",
       " 249,\n",
       " 250,\n",
       " 252,\n",
       " 255,\n",
       " 258,\n",
       " 260,\n",
       " 261,\n",
       " 264,\n",
       " 265,\n",
       " 267,\n",
       " 270,\n",
       " 273,\n",
       " 275,\n",
       " 276,\n",
       " 279,\n",
       " 280,\n",
       " 282,\n",
       " 285,\n",
       " 288,\n",
       " 290,\n",
       " 291,\n",
       " 294,\n",
       " 295,\n",
       " 297,\n",
       " 300,\n",
       " 303,\n",
       " 305,\n",
       " 306,\n",
       " 309,\n",
       " 310,\n",
       " 312,\n",
       " 315,\n",
       " 318,\n",
       " 320,\n",
       " 321,\n",
       " 324,\n",
       " 325,\n",
       " 327,\n",
       " 330,\n",
       " 333,\n",
       " 335,\n",
       " 336,\n",
       " 339,\n",
       " 340,\n",
       " 342,\n",
       " 345,\n",
       " 348,\n",
       " 350,\n",
       " 351,\n",
       " 354,\n",
       " 355,\n",
       " 357,\n",
       " 360,\n",
       " 363,\n",
       " 365,\n",
       " 366,\n",
       " 369,\n",
       " 370,\n",
       " 372,\n",
       " 375,\n",
       " 378,\n",
       " 380,\n",
       " 381,\n",
       " 384,\n",
       " 385,\n",
       " 387,\n",
       " 390,\n",
       " 393,\n",
       " 395,\n",
       " 396,\n",
       " 399,\n",
       " 400,\n",
       " 402,\n",
       " 405,\n",
       " 408,\n",
       " 410,\n",
       " 411,\n",
       " 414,\n",
       " 415,\n",
       " 417,\n",
       " 420,\n",
       " 423,\n",
       " 425,\n",
       " 426,\n",
       " 429,\n",
       " 430,\n",
       " 432,\n",
       " 435,\n",
       " 438,\n",
       " 440,\n",
       " 441,\n",
       " 444,\n",
       " 445,\n",
       " 447,\n",
       " 450,\n",
       " 453,\n",
       " 455,\n",
       " 456,\n",
       " 459,\n",
       " 460,\n",
       " 462,\n",
       " 465,\n",
       " 468,\n",
       " 470,\n",
       " 471,\n",
       " 474,\n",
       " 475,\n",
       " 477,\n",
       " 480,\n",
       " 483,\n",
       " 485,\n",
       " 486,\n",
       " 489,\n",
       " 490,\n",
       " 492,\n",
       " 495,\n",
       " 498,\n",
       " 500,\n",
       " 501,\n",
       " 504,\n",
       " 505,\n",
       " 507,\n",
       " 510,\n",
       " 513,\n",
       " 515,\n",
       " 516,\n",
       " 519,\n",
       " 520,\n",
       " 522,\n",
       " 525,\n",
       " 528,\n",
       " 530,\n",
       " 531,\n",
       " 534,\n",
       " 535,\n",
       " 537,\n",
       " 540,\n",
       " 543,\n",
       " 545,\n",
       " 546,\n",
       " 549,\n",
       " 550,\n",
       " 552,\n",
       " 555,\n",
       " 558,\n",
       " 560,\n",
       " 561,\n",
       " 564,\n",
       " 565,\n",
       " 567,\n",
       " 570,\n",
       " 573,\n",
       " 575,\n",
       " 576,\n",
       " 579,\n",
       " 580,\n",
       " 582,\n",
       " 585,\n",
       " 588,\n",
       " 590,\n",
       " 591,\n",
       " 594,\n",
       " 595,\n",
       " 597,\n",
       " 600,\n",
       " 603,\n",
       " 605,\n",
       " 606,\n",
       " 609,\n",
       " 610,\n",
       " 612,\n",
       " 615,\n",
       " 618,\n",
       " 620,\n",
       " 621,\n",
       " 624,\n",
       " 625,\n",
       " 627,\n",
       " 630,\n",
       " 633,\n",
       " 635,\n",
       " 636,\n",
       " 639,\n",
       " 640,\n",
       " 642,\n",
       " 645,\n",
       " 648,\n",
       " 650,\n",
       " 651,\n",
       " 654,\n",
       " 655,\n",
       " 657,\n",
       " 660,\n",
       " 663,\n",
       " 665,\n",
       " 666,\n",
       " 669,\n",
       " 670,\n",
       " 672,\n",
       " 675,\n",
       " 678,\n",
       " 680,\n",
       " 681,\n",
       " 684,\n",
       " 685,\n",
       " 687,\n",
       " 690,\n",
       " 693,\n",
       " 695,\n",
       " 696,\n",
       " 699,\n",
       " 700,\n",
       " 702,\n",
       " 705,\n",
       " 708,\n",
       " 710,\n",
       " 711,\n",
       " 714,\n",
       " 715,\n",
       " 717,\n",
       " 720,\n",
       " 723,\n",
       " 725,\n",
       " 726,\n",
       " 729,\n",
       " 730,\n",
       " 732,\n",
       " 735,\n",
       " 738,\n",
       " 740,\n",
       " 741,\n",
       " 744,\n",
       " 745,\n",
       " 747,\n",
       " 750,\n",
       " 753,\n",
       " 755,\n",
       " 756,\n",
       " 759,\n",
       " 760,\n",
       " 762,\n",
       " 765,\n",
       " 768,\n",
       " 770,\n",
       " 771,\n",
       " 774,\n",
       " 775,\n",
       " 777,\n",
       " 780,\n",
       " 783,\n",
       " 785,\n",
       " 786,\n",
       " 789,\n",
       " 790,\n",
       " 792,\n",
       " 795,\n",
       " 798,\n",
       " 800,\n",
       " 801,\n",
       " 804,\n",
       " 805,\n",
       " 807,\n",
       " 810,\n",
       " 813,\n",
       " 815,\n",
       " 816,\n",
       " 819,\n",
       " 820,\n",
       " 822,\n",
       " 825,\n",
       " 828,\n",
       " 830,\n",
       " 831,\n",
       " 834,\n",
       " 835,\n",
       " 837,\n",
       " 840,\n",
       " 843,\n",
       " 845,\n",
       " 846,\n",
       " 849,\n",
       " 850,\n",
       " 852,\n",
       " 855,\n",
       " 858,\n",
       " 860,\n",
       " 861,\n",
       " 864,\n",
       " 865,\n",
       " 867,\n",
       " 870,\n",
       " 873,\n",
       " 875,\n",
       " 876,\n",
       " 879,\n",
       " 880,\n",
       " 882,\n",
       " 885,\n",
       " 888,\n",
       " 890,\n",
       " 891,\n",
       " 894,\n",
       " 895,\n",
       " 897,\n",
       " 900,\n",
       " 903,\n",
       " 905,\n",
       " 906,\n",
       " 909,\n",
       " 910,\n",
       " 912,\n",
       " 915,\n",
       " 918,\n",
       " 920,\n",
       " 921,\n",
       " 924,\n",
       " 925,\n",
       " 927,\n",
       " 930,\n",
       " 933,\n",
       " 935,\n",
       " 936,\n",
       " 939,\n",
       " 940,\n",
       " 942,\n",
       " 945,\n",
       " 948,\n",
       " 950,\n",
       " 951,\n",
       " 954,\n",
       " 955,\n",
       " 957,\n",
       " 960,\n",
       " 963,\n",
       " 965,\n",
       " 966,\n",
       " 969,\n",
       " 970,\n",
       " 972,\n",
       " 975,\n",
       " 978,\n",
       " 980,\n",
       " 981,\n",
       " 984,\n",
       " 985,\n",
       " 987,\n",
       " 990,\n",
       " 993,\n",
       " 995,\n",
       " 996,\n",
       " 999]"
      ]
     },
     "execution_count": 15,
     "metadata": {},
     "output_type": "execute_result"
    }
   ],
   "source": [
    "[i for i in range(1,1000) if (i%3==0)|(i%5==0)]"
   ]
  },
  {
   "cell_type": "markdown",
   "metadata": {},
   "source": [
    "# 問題➎  \n",
    "http://odz.sakura.ne.jp/projecteuler/     \n",
    "13195 の素因数は 5, 7, 13, 29 である.\n",
    "\n",
    "600851475143 の素因数のうち最大のものを求めよ."
   ]
  },
  {
   "cell_type": "code",
   "execution_count": 16,
   "metadata": {},
   "outputs": [
    {
     "data": {
      "text/plain": [
       "6857"
      ]
     },
     "execution_count": 16,
     "metadata": {},
     "output_type": "execute_result"
    }
   ],
   "source": [
    "import numpy as np\n",
    "#Num=13195\n",
    "Num=600851475143\n",
    "tmp=np.arange(2,int(np.sqrt(Num))+2)\n",
    "max([i for i in tmp[Num%tmp==0] if (i%np.arange(2,i)!=0).all()])\n",
    "    "
   ]
  },
  {
   "cell_type": "markdown",
   "metadata": {},
   "source": [
    "# 問題➏\n",
    "http://odz.sakura.ne.jp/projecteuler/     \n",
    "フィボナッチ数列の項は前の2つの項の和である. 最初の2項を 1, 2 とすれば, 最初の10項は以下の通りである.\n",
    "\n",
    "1, 2, 3, 5, 8, 13, 21, 34, 55, 89, ...\n",
    "数列の項の値が400万以下の, 偶数値の項の総和を求めよ."
   ]
  },
  {
   "cell_type": "code",
   "execution_count": 17,
   "metadata": {
    "scrolled": true
   },
   "outputs": [
    {
     "data": {
      "text/plain": [
       "[1,\n",
       " 2,\n",
       " 3,\n",
       " 5,\n",
       " 8,\n",
       " 13,\n",
       " 21,\n",
       " 34,\n",
       " 55,\n",
       " 89,\n",
       " 144,\n",
       " 233,\n",
       " 377,\n",
       " 610,\n",
       " 987,\n",
       " 1597,\n",
       " 2584,\n",
       " 4181,\n",
       " 6765,\n",
       " 10946,\n",
       " 17711,\n",
       " 28657,\n",
       " 46368,\n",
       " 75025,\n",
       " 121393,\n",
       " 196418,\n",
       " 317811,\n",
       " 514229,\n",
       " 832040,\n",
       " 1346269,\n",
       " 2178309,\n",
       " 3524578]"
      ]
     },
     "execution_count": 17,
     "metadata": {},
     "output_type": "execute_result"
    }
   ],
   "source": [
    "fibonacci=[1,2]\n",
    "while True:\n",
    "    if sum(fibonacci[-2:])>4*10**6:\n",
    "        break\n",
    "    fibonacci.append(sum(fibonacci[-2:]))\n",
    "fibonacci"
   ]
  },
  {
   "cell_type": "code",
   "execution_count": 18,
   "metadata": {},
   "outputs": [
    {
     "data": {
      "text/plain": [
       "4613732"
      ]
     },
     "execution_count": 18,
     "metadata": {},
     "output_type": "execute_result"
    }
   ],
   "source": [
    "sum([ele for ele in fibonacci if ele%2==0])"
   ]
  },
  {
   "cell_type": "markdown",
   "metadata": {},
   "source": [
    "# 問題➐-1\n",
    "assetsフォルダに画像が2つあります。読み込んで表示してください。     \n",
    "次に、画像のデータの形を表示してください。     \n",
    "     \n",
    "画像の読み込みに使えるライブラリは以下のようにたくさんあります。\n",
    "- Pillow https://pillow.readthedocs.io/en/stable/\n",
    "- opencv https://pypi.org/project/opencv-python/\n",
    "- scikit image https://scikit-image.org/"
   ]
  },
  {
   "cell_type": "code",
   "execution_count": 19,
   "metadata": {},
   "outputs": [
    {
     "data": {
      "text/plain": [
       "<matplotlib.image.AxesImage at 0x7fe578ca2990>"
      ]
     },
     "execution_count": 19,
     "metadata": {},
     "output_type": "execute_result"
    },
    {
     "data": {
      "image/png": "[encoded data removed]",
      "text/plain": [
       "<Figure size 432x288 with 1 Axes>"
      ]
     },
     "metadata": {
      "needs_background": "light"
     },
     "output_type": "display_data"
    }
   ],
   "source": [
    "from skimage import io\n",
    "from skimage.color import rgba2rgb\n",
    "import matplotlib.pyplot as plt\n",
    "%matplotlib inline\n",
    "hanpy = io.imread(\"../assets/hannari.png\")\n",
    "hanpy = rgba2rgb(hanpy)\n",
    "plt.imshow(hanpy)"
   ]
  },
  {
   "cell_type": "code",
   "execution_count": 20,
   "metadata": {},
   "outputs": [
    {
     "data": {
      "text/plain": [
       "(606, 1352, 3)"
      ]
     },
     "execution_count": 20,
     "metadata": {},
     "output_type": "execute_result"
    },
    {
     "data": {
      "image/png": "[encoded data removed]",
      "text/plain": [
       "<Figure size 432x288 with 1 Axes>"
      ]
     },
     "metadata": {
      "needs_background": "light"
     },
     "output_type": "display_data"
    }
   ],
   "source": [
    "spookies = io.imread(\"../assets/spookies.png\")\n",
    "spookies = rgba2rgb(spookies)\n",
    "plt.imshow(spookies)\n",
    "spookies.shape"
   ]
  },
  {
   "cell_type": "markdown",
   "metadata": {},
   "source": [
    "# 問題➐-2\n",
    "読み込んだ画像を緑、青、赤のみで表示してください。    \n",
    "画像は先ほど見たように縦×横×色のデータになっています。     \n",
    "      \n",
    "それができたら画像をグレースケールにしてください。以下の式に当てはめるとグレースケール化できます。        \n",
    "Y = 0.2126R + 0.7152G + 0.0722B\n"
   ]
  },
  {
   "cell_type": "code",
   "execution_count": 21,
   "metadata": {},
   "outputs": [
    {
     "data": {
      "text/plain": [
       "<matplotlib.image.AxesImage at 0x7fe5786e74d0>"
      ]
     },
     "execution_count": 21,
     "metadata": {},
     "output_type": "execute_result"
    },
    {
     "data": {
      "image/png": "[encoded data removed]",
      "text/plain": [
       "<Figure size 432x288 with 1 Axes>"
      ]
     },
     "metadata": {
      "needs_background": "light"
     },
     "output_type": "display_data"
    }
   ],
   "source": [
    "hanpy_t = hanpy.copy()\n",
    "hanpy_t[:, :, (1,2)] =0\n",
    "plt.imshow(hanpy_t)"
   ]
  },
  {
   "cell_type": "code",
   "execution_count": 22,
   "metadata": {},
   "outputs": [
    {
     "data": {
      "text/plain": [
       "<matplotlib.image.AxesImage at 0x7fe578651590>"
      ]
     },
     "execution_count": 22,
     "metadata": {},
     "output_type": "execute_result"
    },
    {
     "data": {
      "image/png": "[encoded data removed]",
      "text/plain": [
       "<Figure size 432x288 with 1 Axes>"
      ]
     },
     "metadata": {
      "needs_background": "light"
     },
     "output_type": "display_data"
    }
   ],
   "source": [
    "hanpy_t1 = hanpy.copy()\n",
    "hanpy_t1[:,:,(0,1)] = 0\n",
    "plt.imshow(hanpy_t1)"
   ]
  },
  {
   "cell_type": "code",
   "execution_count": 23,
   "metadata": {},
   "outputs": [
    {
     "data": {
      "text/plain": [
       "<matplotlib.image.AxesImage at 0x7fe578635750>"
      ]
     },
     "execution_count": 23,
     "metadata": {},
     "output_type": "execute_result"
    },
    {
     "data": {
      "image/png": "[encoded data removed]",
      "text/plain": [
       "<Figure size 432x288 with 1 Axes>"
      ]
     },
     "metadata": {
      "needs_background": "light"
     },
     "output_type": "display_data"
    }
   ],
   "source": [
    "hanpy_t2 = hanpy.copy()\n",
    "hanpy_t2[:,:,(0,2)] = 0\n",
    "plt.imshow(hanpy_t2)"
   ]
  },
  {
   "cell_type": "code",
   "execution_count": 24,
   "metadata": {},
   "outputs": [],
   "source": [
    "spookies_gray = 0.2126*spookies[:,:,0] + 0.7152*spookies[:,:,1] + 0.0722* spookies[:,:,2]"
   ]
  },
  {
   "cell_type": "code",
   "execution_count": 25,
   "metadata": {},
   "outputs": [
    {
     "data": {
      "text/plain": [
       "<matplotlib.image.AxesImage at 0x7fe578596a10>"
      ]
     },
     "execution_count": 25,
     "metadata": {},
     "output_type": "execute_result"
    },
    {
     "data": {
      "image/png": "[encoded data removed]",
      "text/plain": [
       "<Figure size 432x288 with 1 Axes>"
      ]
     },
     "metadata": {
      "needs_background": "light"
     },
     "output_type": "display_data"
    }
   ],
   "source": [
    "plt.imshow(spookies_gray)"
   ]
  },
  {
   "cell_type": "code",
   "execution_count": 26,
   "metadata": {},
   "outputs": [
    {
     "ename": "NameError",
     "evalue": "name 'rgb2gray' is not defined",
     "output_type": "error",
     "traceback": [
      "\u001b[0;31m---------------------------------------------------------------------------\u001b[0m",
      "\u001b[0;31mNameError\u001b[0m                                 Traceback (most recent call last)",
      "\u001b[0;32m<ipython-input-26-9b16266cece4>\u001b[0m in \u001b[0;36m<module>\u001b[0;34m\u001b[0m\n\u001b[0;32m----> 1\u001b[0;31m \u001b[0mhanpy_gray\u001b[0m \u001b[0;34m=\u001b[0m \u001b[0mrgb2gray\u001b[0m\u001b[0;34m(\u001b[0m\u001b[0mhanpy\u001b[0m\u001b[0;34m)\u001b[0m\u001b[0;34m\u001b[0m\u001b[0;34m\u001b[0m\u001b[0m\n\u001b[0m",
      "\u001b[0;31mNameError\u001b[0m: name 'rgb2gray' is not defined"
     ]
    }
   ],
   "source": [
    "hanpy_gray = rgb2gray(hanpy)"
   ]
  },
  {
   "cell_type": "code",
   "execution_count": 27,
   "metadata": {},
   "outputs": [
    {
     "ename": "NameError",
     "evalue": "name 'hanpy_gray' is not defined",
     "output_type": "error",
     "traceback": [
      "\u001b[0;31m---------------------------------------------------------------------------\u001b[0m",
      "\u001b[0;31mNameError\u001b[0m                                 Traceback (most recent call last)",
      "\u001b[0;32m<ipython-input-27-e0b6a9a75668>\u001b[0m in \u001b[0;36m<module>\u001b[0;34m\u001b[0m\n\u001b[0;32m----> 1\u001b[0;31m \u001b[0mplt\u001b[0m\u001b[0;34m.\u001b[0m\u001b[0mimshow\u001b[0m\u001b[0;34m(\u001b[0m\u001b[0mhanpy_gray\u001b[0m\u001b[0;34m)\u001b[0m\u001b[0;34m\u001b[0m\u001b[0;34m\u001b[0m\u001b[0m\n\u001b[0m",
      "\u001b[0;31mNameError\u001b[0m: name 'hanpy_gray' is not defined"
     ]
    }
   ],
   "source": [
    "plt.imshow(hanpy_gray)"
   ]
  },
  {
   "cell_type": "markdown",
   "metadata": {},
   "source": [
    "# 問題➑-1\n",
    "\n",
    "\n",
    "夏のオリンピックCSVデータがassetフォルダにあります。    \n",
    "pandasのread_csvメソッドで読み込めます。    \n",
    "     \n",
    "データのサイズも確認しましょう。\n"
   ]
  },
  {
   "cell_type": "code",
   "execution_count": 28,
   "metadata": {},
   "outputs": [
    {
     "data": {
      "text/plain": [
       "(34088, 16)"
      ]
     },
     "execution_count": 28,
     "metadata": {},
     "output_type": "execute_result"
    }
   ],
   "source": [
    "import pandas as pd\n",
    "df = pd.read_csv(\"../assets/olympic_summer_medalist.csv\", index_col=0)\n",
    "df.shape"
   ]
  },
  {
   "cell_type": "code",
   "execution_count": 29,
   "metadata": {},
   "outputs": [
    {
     "data": {
      "text/html": [
       "<div>\n",
       "<style scoped>\n",
       "    .dataframe tbody tr th:only-of-type {\n",
       "        vertical-align: middle;\n",
       "    }\n",
       "\n",
       "    .dataframe tbody tr th {\n",
       "        vertical-align: top;\n",
       "    }\n",
       "\n",
       "    .dataframe thead th {\n",
       "        text-align: right;\n",
       "    }\n",
       "</style>\n",
       "<table border=\"1\" class=\"dataframe\">\n",
       "  <thead>\n",
       "    <tr style=\"text-align: right;\">\n",
       "      <th></th>\n",
       "      <th>ID</th>\n",
       "      <th>Name</th>\n",
       "      <th>Sex</th>\n",
       "      <th>Age</th>\n",
       "      <th>Height</th>\n",
       "      <th>Weight</th>\n",
       "      <th>Team</th>\n",
       "      <th>NOC</th>\n",
       "      <th>Games</th>\n",
       "      <th>Year</th>\n",
       "      <th>Season</th>\n",
       "      <th>City</th>\n",
       "      <th>Sport</th>\n",
       "      <th>Event</th>\n",
       "      <th>Medal</th>\n",
       "      <th>Country</th>\n",
       "    </tr>\n",
       "  </thead>\n",
       "  <tbody>\n",
       "    <tr>\n",
       "      <th>3</th>\n",
       "      <td>4</td>\n",
       "      <td>Edgar Lindenau Aabye</td>\n",
       "      <td>M</td>\n",
       "      <td>34.0</td>\n",
       "      <td>NaN</td>\n",
       "      <td>NaN</td>\n",
       "      <td>Denmark/Sweden</td>\n",
       "      <td>DEN</td>\n",
       "      <td>1900 Summer</td>\n",
       "      <td>1900</td>\n",
       "      <td>Summer</td>\n",
       "      <td>Paris</td>\n",
       "      <td>Tug-Of-War</td>\n",
       "      <td>Tug-Of-War Men's Tug-Of-War</td>\n",
       "      <td>Gold</td>\n",
       "      <td>Denmark</td>\n",
       "    </tr>\n",
       "    <tr>\n",
       "      <th>37</th>\n",
       "      <td>15</td>\n",
       "      <td>Arvo Ossian Aaltonen</td>\n",
       "      <td>M</td>\n",
       "      <td>30.0</td>\n",
       "      <td>NaN</td>\n",
       "      <td>NaN</td>\n",
       "      <td>Finland</td>\n",
       "      <td>FIN</td>\n",
       "      <td>1920 Summer</td>\n",
       "      <td>1920</td>\n",
       "      <td>Summer</td>\n",
       "      <td>Antwerpen</td>\n",
       "      <td>Swimming</td>\n",
       "      <td>Swimming Men's 200 metres Breaststroke</td>\n",
       "      <td>Bronze</td>\n",
       "      <td>Finland</td>\n",
       "    </tr>\n",
       "    <tr>\n",
       "      <th>38</th>\n",
       "      <td>15</td>\n",
       "      <td>Arvo Ossian Aaltonen</td>\n",
       "      <td>M</td>\n",
       "      <td>30.0</td>\n",
       "      <td>NaN</td>\n",
       "      <td>NaN</td>\n",
       "      <td>Finland</td>\n",
       "      <td>FIN</td>\n",
       "      <td>1920 Summer</td>\n",
       "      <td>1920</td>\n",
       "      <td>Summer</td>\n",
       "      <td>Antwerpen</td>\n",
       "      <td>Swimming</td>\n",
       "      <td>Swimming Men's 400 metres Breaststroke</td>\n",
       "      <td>Bronze</td>\n",
       "      <td>Finland</td>\n",
       "    </tr>\n",
       "    <tr>\n",
       "      <th>41</th>\n",
       "      <td>17</td>\n",
       "      <td>Paavo Johannes Aaltonen</td>\n",
       "      <td>M</td>\n",
       "      <td>28.0</td>\n",
       "      <td>175.0</td>\n",
       "      <td>64.0</td>\n",
       "      <td>Finland</td>\n",
       "      <td>FIN</td>\n",
       "      <td>1948 Summer</td>\n",
       "      <td>1948</td>\n",
       "      <td>Summer</td>\n",
       "      <td>London</td>\n",
       "      <td>Gymnastics</td>\n",
       "      <td>Gymnastics Men's Individual All-Around</td>\n",
       "      <td>Bronze</td>\n",
       "      <td>Finland</td>\n",
       "    </tr>\n",
       "    <tr>\n",
       "      <th>42</th>\n",
       "      <td>17</td>\n",
       "      <td>Paavo Johannes Aaltonen</td>\n",
       "      <td>M</td>\n",
       "      <td>28.0</td>\n",
       "      <td>175.0</td>\n",
       "      <td>64.0</td>\n",
       "      <td>Finland</td>\n",
       "      <td>FIN</td>\n",
       "      <td>1948 Summer</td>\n",
       "      <td>1948</td>\n",
       "      <td>Summer</td>\n",
       "      <td>London</td>\n",
       "      <td>Gymnastics</td>\n",
       "      <td>Gymnastics Men's Team All-Around</td>\n",
       "      <td>Gold</td>\n",
       "      <td>Finland</td>\n",
       "    </tr>\n",
       "  </tbody>\n",
       "</table>\n",
       "</div>"
      ],
      "text/plain": [
       "    ID                     Name Sex   Age  Height  Weight            Team  \\\n",
       "3    4     Edgar Lindenau Aabye   M  34.0     NaN     NaN  Denmark/Sweden   \n",
       "37  15     Arvo Ossian Aaltonen   M  30.0     NaN     NaN         Finland   \n",
       "38  15     Arvo Ossian Aaltonen   M  30.0     NaN     NaN         Finland   \n",
       "41  17  Paavo Johannes Aaltonen   M  28.0   175.0    64.0         Finland   \n",
       "42  17  Paavo Johannes Aaltonen   M  28.0   175.0    64.0         Finland   \n",
       "\n",
       "    NOC        Games  Year  Season       City       Sport  \\\n",
       "3   DEN  1900 Summer  1900  Summer      Paris  Tug-Of-War   \n",
       "37  FIN  1920 Summer  1920  Summer  Antwerpen    Swimming   \n",
       "38  FIN  1920 Summer  1920  Summer  Antwerpen    Swimming   \n",
       "41  FIN  1948 Summer  1948  Summer     London  Gymnastics   \n",
       "42  FIN  1948 Summer  1948  Summer     London  Gymnastics   \n",
       "\n",
       "                                     Event   Medal  Country  \n",
       "3              Tug-Of-War Men's Tug-Of-War    Gold  Denmark  \n",
       "37  Swimming Men's 200 metres Breaststroke  Bronze  Finland  \n",
       "38  Swimming Men's 400 metres Breaststroke  Bronze  Finland  \n",
       "41  Gymnastics Men's Individual All-Around  Bronze  Finland  \n",
       "42        Gymnastics Men's Team All-Around    Gold  Finland  "
      ]
     },
     "execution_count": 29,
     "metadata": {},
     "output_type": "execute_result"
    }
   ],
   "source": [
    "df.head()"
   ]
  },
  {
   "cell_type": "markdown",
   "metadata": {},
   "source": [
    "# 問題➑-2\n",
    "\n",
    "これまでの日本の金メダリスト数を可視化しましょう。    \n",
    "可視化ツールには以下のものがあります。    \n",
    "matplotlib : 言わずと知れた　https://matplotlib.org/     \n",
    "seaborn : matplotlibのラッパ https://seaborn.pydata.org/      \n",
    "plotly : インタラクティブ https://plot.ly/python/      \n",
    "plotly.express : plotlyのラッパ https://plot.ly/python/plotly-express/     \n",
    "altair : インタラクティブ https://altair-viz.github.io/gallery/index.html"
   ]
  },
  {
   "cell_type": "code",
   "execution_count": 30,
   "metadata": {},
   "outputs": [
    {
     "data": {
      "text/html": [
       "<div>\n",
       "<style scoped>\n",
       "    .dataframe tbody tr th:only-of-type {\n",
       "        vertical-align: middle;\n",
       "    }\n",
       "\n",
       "    .dataframe tbody tr th {\n",
       "        vertical-align: top;\n",
       "    }\n",
       "\n",
       "    .dataframe thead th {\n",
       "        text-align: right;\n",
       "    }\n",
       "</style>\n",
       "<table border=\"1\" class=\"dataframe\">\n",
       "  <thead>\n",
       "    <tr style=\"text-align: right;\">\n",
       "      <th></th>\n",
       "      <th>Year</th>\n",
       "      <th>ID</th>\n",
       "      <th>Name</th>\n",
       "      <th>Sex</th>\n",
       "      <th>Age</th>\n",
       "      <th>Height</th>\n",
       "      <th>Weight</th>\n",
       "      <th>Team</th>\n",
       "      <th>NOC</th>\n",
       "      <th>Games</th>\n",
       "      <th>Season</th>\n",
       "      <th>City</th>\n",
       "      <th>Sport</th>\n",
       "      <th>Event</th>\n",
       "      <th>Medal</th>\n",
       "      <th>Country</th>\n",
       "    </tr>\n",
       "  </thead>\n",
       "  <tbody>\n",
       "    <tr>\n",
       "      <th>0</th>\n",
       "      <td>1928</td>\n",
       "      <td>2</td>\n",
       "      <td>2</td>\n",
       "      <td>2</td>\n",
       "      <td>2</td>\n",
       "      <td>1</td>\n",
       "      <td>1</td>\n",
       "      <td>2</td>\n",
       "      <td>2</td>\n",
       "      <td>2</td>\n",
       "      <td>2</td>\n",
       "      <td>2</td>\n",
       "      <td>2</td>\n",
       "      <td>2</td>\n",
       "      <td>2</td>\n",
       "      <td>2</td>\n",
       "    </tr>\n",
       "    <tr>\n",
       "      <th>1</th>\n",
       "      <td>1932</td>\n",
       "      <td>10</td>\n",
       "      <td>10</td>\n",
       "      <td>10</td>\n",
       "      <td>10</td>\n",
       "      <td>3</td>\n",
       "      <td>3</td>\n",
       "      <td>10</td>\n",
       "      <td>10</td>\n",
       "      <td>10</td>\n",
       "      <td>10</td>\n",
       "      <td>10</td>\n",
       "      <td>10</td>\n",
       "      <td>10</td>\n",
       "      <td>10</td>\n",
       "      <td>10</td>\n",
       "    </tr>\n",
       "    <tr>\n",
       "      <th>2</th>\n",
       "      <td>1936</td>\n",
       "      <td>9</td>\n",
       "      <td>9</td>\n",
       "      <td>9</td>\n",
       "      <td>9</td>\n",
       "      <td>2</td>\n",
       "      <td>2</td>\n",
       "      <td>9</td>\n",
       "      <td>9</td>\n",
       "      <td>9</td>\n",
       "      <td>9</td>\n",
       "      <td>9</td>\n",
       "      <td>9</td>\n",
       "      <td>9</td>\n",
       "      <td>9</td>\n",
       "      <td>9</td>\n",
       "    </tr>\n",
       "    <tr>\n",
       "      <th>3</th>\n",
       "      <td>1952</td>\n",
       "      <td>1</td>\n",
       "      <td>1</td>\n",
       "      <td>1</td>\n",
       "      <td>1</td>\n",
       "      <td>0</td>\n",
       "      <td>0</td>\n",
       "      <td>1</td>\n",
       "      <td>1</td>\n",
       "      <td>1</td>\n",
       "      <td>1</td>\n",
       "      <td>1</td>\n",
       "      <td>1</td>\n",
       "      <td>1</td>\n",
       "      <td>1</td>\n",
       "      <td>1</td>\n",
       "    </tr>\n",
       "    <tr>\n",
       "      <th>4</th>\n",
       "      <td>1956</td>\n",
       "      <td>4</td>\n",
       "      <td>4</td>\n",
       "      <td>4</td>\n",
       "      <td>4</td>\n",
       "      <td>1</td>\n",
       "      <td>1</td>\n",
       "      <td>4</td>\n",
       "      <td>4</td>\n",
       "      <td>4</td>\n",
       "      <td>4</td>\n",
       "      <td>4</td>\n",
       "      <td>4</td>\n",
       "      <td>4</td>\n",
       "      <td>4</td>\n",
       "      <td>4</td>\n",
       "    </tr>\n",
       "  </tbody>\n",
       "</table>\n",
       "</div>"
      ],
      "text/plain": [
       "   Year  ID  Name  Sex  Age  Height  Weight  Team  NOC  Games  Season  City  \\\n",
       "0  1928   2     2    2    2       1       1     2    2      2       2     2   \n",
       "1  1932  10    10   10   10       3       3    10   10     10      10    10   \n",
       "2  1936   9     9    9    9       2       2     9    9      9       9     9   \n",
       "3  1952   1     1    1    1       0       0     1    1      1       1     1   \n",
       "4  1956   4     4    4    4       1       1     4    4      4       4     4   \n",
       "\n",
       "   Sport  Event  Medal  Country  \n",
       "0      2      2      2        2  \n",
       "1     10     10     10       10  \n",
       "2      9      9      9        9  \n",
       "3      1      1      1        1  \n",
       "4      4      4      4        4  "
      ]
     },
     "execution_count": 30,
     "metadata": {},
     "output_type": "execute_result"
    }
   ],
   "source": [
    "df_jp = df[df[\"Country\"]==\"Japan\"]\n",
    "df_jp_gold = df_jp[df_jp[\"Medal\"]==\"Gold\"]\n",
    "df_jp_gold_year = df_jp_gold.groupby(\"Year\", as_index=False).count()\n",
    "df_jp_gold_year.head()"
   ]
  },
  {
   "cell_type": "code",
   "execution_count": 50,
   "metadata": {},
   "outputs": [],
   "source": [
    "import seaborn as sns\n",
    "import matplotlib.pyplot as plt"
   ]
  },
  {
   "cell_type": "code",
   "execution_count": 62,
   "metadata": {
    "scrolled": false
   },
   "outputs": [
    {
     "data": {
      "image/png": "[encoded data removed]",
      "text/plain": [
       "<Figure size 1152x576 with 1 Axes>"
      ]
     },
     "metadata": {},
     "output_type": "display_data"
    }
   ],
   "source": [
    "sns.set_style(\"whitegrid\")\n",
    "plt.figure(figsize=(16,8))\n",
    "sns.barplot(data=df_jp_gold_year, x=\"Year\", y=\"ID\").set_title(\"Japanese Gold Medalist\")\n",
    "plt.show()"
   ]
  },
  {
   "cell_type": "code",
   "execution_count": null,
   "metadata": {},
   "outputs": [],
   "source": []
  },
  {
   "cell_type": "markdown",
   "metadata": {},
   "source": [
    "# 問題➑-3\n",
    "\n",
    "日本の競技あたりの金メダル数を可視化しましょう。"
   ]
  },
  {
   "cell_type": "code",
   "execution_count": 66,
   "metadata": {
    "scrolled": true
   },
   "outputs": [
    {
     "data": {
      "text/html": [
       "<div>\n",
       "<style scoped>\n",
       "    .dataframe tbody tr th:only-of-type {\n",
       "        vertical-align: middle;\n",
       "    }\n",
       "\n",
       "    .dataframe tbody tr th {\n",
       "        vertical-align: top;\n",
       "    }\n",
       "\n",
       "    .dataframe thead th {\n",
       "        text-align: right;\n",
       "    }\n",
       "</style>\n",
       "<table border=\"1\" class=\"dataframe\">\n",
       "  <thead>\n",
       "    <tr style=\"text-align: right;\">\n",
       "      <th></th>\n",
       "      <th>Year</th>\n",
       "      <th>Sport</th>\n",
       "      <th>ID</th>\n",
       "      <th>Name</th>\n",
       "      <th>Sex</th>\n",
       "      <th>Age</th>\n",
       "      <th>Height</th>\n",
       "      <th>Weight</th>\n",
       "      <th>Team</th>\n",
       "      <th>NOC</th>\n",
       "      <th>Games</th>\n",
       "      <th>Season</th>\n",
       "      <th>City</th>\n",
       "      <th>Event</th>\n",
       "      <th>Medal</th>\n",
       "      <th>Country</th>\n",
       "    </tr>\n",
       "  </thead>\n",
       "  <tbody>\n",
       "    <tr>\n",
       "      <th>0</th>\n",
       "      <td>1928</td>\n",
       "      <td>Athletics</td>\n",
       "      <td>1</td>\n",
       "      <td>1</td>\n",
       "      <td>1</td>\n",
       "      <td>1</td>\n",
       "      <td>1</td>\n",
       "      <td>1</td>\n",
       "      <td>1</td>\n",
       "      <td>1</td>\n",
       "      <td>1</td>\n",
       "      <td>1</td>\n",
       "      <td>1</td>\n",
       "      <td>1</td>\n",
       "      <td>1</td>\n",
       "      <td>1</td>\n",
       "    </tr>\n",
       "    <tr>\n",
       "      <th>1</th>\n",
       "      <td>1928</td>\n",
       "      <td>Swimming</td>\n",
       "      <td>1</td>\n",
       "      <td>1</td>\n",
       "      <td>1</td>\n",
       "      <td>1</td>\n",
       "      <td>0</td>\n",
       "      <td>0</td>\n",
       "      <td>1</td>\n",
       "      <td>1</td>\n",
       "      <td>1</td>\n",
       "      <td>1</td>\n",
       "      <td>1</td>\n",
       "      <td>1</td>\n",
       "      <td>1</td>\n",
       "      <td>1</td>\n",
       "    </tr>\n",
       "    <tr>\n",
       "      <th>2</th>\n",
       "      <td>1932</td>\n",
       "      <td>Athletics</td>\n",
       "      <td>1</td>\n",
       "      <td>1</td>\n",
       "      <td>1</td>\n",
       "      <td>1</td>\n",
       "      <td>1</td>\n",
       "      <td>1</td>\n",
       "      <td>1</td>\n",
       "      <td>1</td>\n",
       "      <td>1</td>\n",
       "      <td>1</td>\n",
       "      <td>1</td>\n",
       "      <td>1</td>\n",
       "      <td>1</td>\n",
       "      <td>1</td>\n",
       "    </tr>\n",
       "    <tr>\n",
       "      <th>3</th>\n",
       "      <td>1932</td>\n",
       "      <td>Equestrianism</td>\n",
       "      <td>1</td>\n",
       "      <td>1</td>\n",
       "      <td>1</td>\n",
       "      <td>1</td>\n",
       "      <td>0</td>\n",
       "      <td>0</td>\n",
       "      <td>1</td>\n",
       "      <td>1</td>\n",
       "      <td>1</td>\n",
       "      <td>1</td>\n",
       "      <td>1</td>\n",
       "      <td>1</td>\n",
       "      <td>1</td>\n",
       "      <td>1</td>\n",
       "    </tr>\n",
       "    <tr>\n",
       "      <th>4</th>\n",
       "      <td>1932</td>\n",
       "      <td>Swimming</td>\n",
       "      <td>8</td>\n",
       "      <td>8</td>\n",
       "      <td>8</td>\n",
       "      <td>8</td>\n",
       "      <td>2</td>\n",
       "      <td>2</td>\n",
       "      <td>8</td>\n",
       "      <td>8</td>\n",
       "      <td>8</td>\n",
       "      <td>8</td>\n",
       "      <td>8</td>\n",
       "      <td>8</td>\n",
       "      <td>8</td>\n",
       "      <td>8</td>\n",
       "    </tr>\n",
       "  </tbody>\n",
       "</table>\n",
       "</div>"
      ],
      "text/plain": [
       "   Year          Sport  ID  Name  Sex  Age  Height  Weight  Team  NOC  Games  \\\n",
       "0  1928      Athletics   1     1    1    1       1       1     1    1      1   \n",
       "1  1928       Swimming   1     1    1    1       0       0     1    1      1   \n",
       "2  1932      Athletics   1     1    1    1       1       1     1    1      1   \n",
       "3  1932  Equestrianism   1     1    1    1       0       0     1    1      1   \n",
       "4  1932       Swimming   8     8    8    8       2       2     8    8      8   \n",
       "\n",
       "   Season  City  Event  Medal  Country  \n",
       "0       1     1      1      1        1  \n",
       "1       1     1      1      1        1  \n",
       "2       1     1      1      1        1  \n",
       "3       1     1      1      1        1  \n",
       "4       8     8      8      8        8  "
      ]
     },
     "execution_count": 66,
     "metadata": {},
     "output_type": "execute_result"
    }
   ],
   "source": [
    "df_jp_sport = df_jp_gold.groupby([\"Year\", \"Sport\"], as_index=False).count()\n",
    "df_jp_sport.head()"
   ]
  },
  {
   "cell_type": "code",
   "execution_count": 78,
   "metadata": {},
   "outputs": [],
   "source": [
    "df_jp_sport1 = df_jp_sport.iloc[:, :3]"
   ]
  },
  {
   "cell_type": "code",
   "execution_count": 85,
   "metadata": {},
   "outputs": [
    {
     "data": {
      "text/html": [
       "<div>\n",
       "<style scoped>\n",
       "    .dataframe tbody tr th:only-of-type {\n",
       "        vertical-align: middle;\n",
       "    }\n",
       "\n",
       "    .dataframe tbody tr th {\n",
       "        vertical-align: top;\n",
       "    }\n",
       "\n",
       "    .dataframe thead th {\n",
       "        text-align: right;\n",
       "    }\n",
       "</style>\n",
       "<table border=\"1\" class=\"dataframe\">\n",
       "  <thead>\n",
       "    <tr style=\"text-align: right;\">\n",
       "      <th>Year</th>\n",
       "      <th>1928</th>\n",
       "      <th>1932</th>\n",
       "      <th>1936</th>\n",
       "      <th>1952</th>\n",
       "      <th>1956</th>\n",
       "      <th>1960</th>\n",
       "      <th>1964</th>\n",
       "      <th>1968</th>\n",
       "      <th>1972</th>\n",
       "      <th>1976</th>\n",
       "      <th>1984</th>\n",
       "      <th>1988</th>\n",
       "      <th>1992</th>\n",
       "      <th>1996</th>\n",
       "      <th>2000</th>\n",
       "      <th>2004</th>\n",
       "      <th>2008</th>\n",
       "      <th>2012</th>\n",
       "      <th>2016</th>\n",
       "    </tr>\n",
       "    <tr>\n",
       "      <th>Sport</th>\n",
       "      <th></th>\n",
       "      <th></th>\n",
       "      <th></th>\n",
       "      <th></th>\n",
       "      <th></th>\n",
       "      <th></th>\n",
       "      <th></th>\n",
       "      <th></th>\n",
       "      <th></th>\n",
       "      <th></th>\n",
       "      <th></th>\n",
       "      <th></th>\n",
       "      <th></th>\n",
       "      <th></th>\n",
       "      <th></th>\n",
       "      <th></th>\n",
       "      <th></th>\n",
       "      <th></th>\n",
       "      <th></th>\n",
       "    </tr>\n",
       "  </thead>\n",
       "  <tbody>\n",
       "    <tr>\n",
       "      <th>Athletics</th>\n",
       "      <td>1.0</td>\n",
       "      <td>1.0</td>\n",
       "      <td>2.0</td>\n",
       "      <td>NaN</td>\n",
       "      <td>NaN</td>\n",
       "      <td>NaN</td>\n",
       "      <td>NaN</td>\n",
       "      <td>NaN</td>\n",
       "      <td>NaN</td>\n",
       "      <td>NaN</td>\n",
       "      <td>NaN</td>\n",
       "      <td>NaN</td>\n",
       "      <td>NaN</td>\n",
       "      <td>NaN</td>\n",
       "      <td>1.0</td>\n",
       "      <td>2.0</td>\n",
       "      <td>NaN</td>\n",
       "      <td>NaN</td>\n",
       "      <td>NaN</td>\n",
       "    </tr>\n",
       "    <tr>\n",
       "      <th>Badminton</th>\n",
       "      <td>NaN</td>\n",
       "      <td>NaN</td>\n",
       "      <td>NaN</td>\n",
       "      <td>NaN</td>\n",
       "      <td>NaN</td>\n",
       "      <td>NaN</td>\n",
       "      <td>NaN</td>\n",
       "      <td>NaN</td>\n",
       "      <td>NaN</td>\n",
       "      <td>NaN</td>\n",
       "      <td>NaN</td>\n",
       "      <td>NaN</td>\n",
       "      <td>NaN</td>\n",
       "      <td>NaN</td>\n",
       "      <td>NaN</td>\n",
       "      <td>NaN</td>\n",
       "      <td>NaN</td>\n",
       "      <td>NaN</td>\n",
       "      <td>2.0</td>\n",
       "    </tr>\n",
       "    <tr>\n",
       "      <th>Boxing</th>\n",
       "      <td>NaN</td>\n",
       "      <td>NaN</td>\n",
       "      <td>NaN</td>\n",
       "      <td>NaN</td>\n",
       "      <td>NaN</td>\n",
       "      <td>NaN</td>\n",
       "      <td>1.0</td>\n",
       "      <td>NaN</td>\n",
       "      <td>NaN</td>\n",
       "      <td>NaN</td>\n",
       "      <td>NaN</td>\n",
       "      <td>NaN</td>\n",
       "      <td>NaN</td>\n",
       "      <td>NaN</td>\n",
       "      <td>NaN</td>\n",
       "      <td>NaN</td>\n",
       "      <td>NaN</td>\n",
       "      <td>1.0</td>\n",
       "      <td>NaN</td>\n",
       "    </tr>\n",
       "    <tr>\n",
       "      <th>Equestrianism</th>\n",
       "      <td>NaN</td>\n",
       "      <td>1.0</td>\n",
       "      <td>NaN</td>\n",
       "      <td>NaN</td>\n",
       "      <td>NaN</td>\n",
       "      <td>NaN</td>\n",
       "      <td>NaN</td>\n",
       "      <td>NaN</td>\n",
       "      <td>NaN</td>\n",
       "      <td>NaN</td>\n",
       "      <td>NaN</td>\n",
       "      <td>NaN</td>\n",
       "      <td>NaN</td>\n",
       "      <td>NaN</td>\n",
       "      <td>NaN</td>\n",
       "      <td>NaN</td>\n",
       "      <td>NaN</td>\n",
       "      <td>NaN</td>\n",
       "      <td>NaN</td>\n",
       "    </tr>\n",
       "    <tr>\n",
       "      <th>Gymnastics</th>\n",
       "      <td>NaN</td>\n",
       "      <td>NaN</td>\n",
       "      <td>NaN</td>\n",
       "      <td>NaN</td>\n",
       "      <td>1.0</td>\n",
       "      <td>9.0</td>\n",
       "      <td>10.0</td>\n",
       "      <td>11.0</td>\n",
       "      <td>10.0</td>\n",
       "      <td>8.0</td>\n",
       "      <td>3.0</td>\n",
       "      <td>NaN</td>\n",
       "      <td>NaN</td>\n",
       "      <td>NaN</td>\n",
       "      <td>NaN</td>\n",
       "      <td>6.0</td>\n",
       "      <td>NaN</td>\n",
       "      <td>1.0</td>\n",
       "      <td>6.0</td>\n",
       "    </tr>\n",
       "    <tr>\n",
       "      <th>Judo</th>\n",
       "      <td>NaN</td>\n",
       "      <td>NaN</td>\n",
       "      <td>NaN</td>\n",
       "      <td>NaN</td>\n",
       "      <td>NaN</td>\n",
       "      <td>NaN</td>\n",
       "      <td>3.0</td>\n",
       "      <td>NaN</td>\n",
       "      <td>3.0</td>\n",
       "      <td>3.0</td>\n",
       "      <td>4.0</td>\n",
       "      <td>1.0</td>\n",
       "      <td>2.0</td>\n",
       "      <td>3.0</td>\n",
       "      <td>4.0</td>\n",
       "      <td>8.0</td>\n",
       "      <td>4.0</td>\n",
       "      <td>1.0</td>\n",
       "      <td>3.0</td>\n",
       "    </tr>\n",
       "    <tr>\n",
       "      <th>Shooting</th>\n",
       "      <td>NaN</td>\n",
       "      <td>NaN</td>\n",
       "      <td>NaN</td>\n",
       "      <td>NaN</td>\n",
       "      <td>NaN</td>\n",
       "      <td>NaN</td>\n",
       "      <td>NaN</td>\n",
       "      <td>NaN</td>\n",
       "      <td>NaN</td>\n",
       "      <td>NaN</td>\n",
       "      <td>1.0</td>\n",
       "      <td>NaN</td>\n",
       "      <td>NaN</td>\n",
       "      <td>NaN</td>\n",
       "      <td>NaN</td>\n",
       "      <td>NaN</td>\n",
       "      <td>NaN</td>\n",
       "      <td>NaN</td>\n",
       "      <td>NaN</td>\n",
       "    </tr>\n",
       "    <tr>\n",
       "      <th>Softball</th>\n",
       "      <td>NaN</td>\n",
       "      <td>NaN</td>\n",
       "      <td>NaN</td>\n",
       "      <td>NaN</td>\n",
       "      <td>NaN</td>\n",
       "      <td>NaN</td>\n",
       "      <td>NaN</td>\n",
       "      <td>NaN</td>\n",
       "      <td>NaN</td>\n",
       "      <td>NaN</td>\n",
       "      <td>NaN</td>\n",
       "      <td>NaN</td>\n",
       "      <td>NaN</td>\n",
       "      <td>NaN</td>\n",
       "      <td>NaN</td>\n",
       "      <td>NaN</td>\n",
       "      <td>15.0</td>\n",
       "      <td>NaN</td>\n",
       "      <td>NaN</td>\n",
       "    </tr>\n",
       "    <tr>\n",
       "      <th>Swimming</th>\n",
       "      <td>1.0</td>\n",
       "      <td>8.0</td>\n",
       "      <td>7.0</td>\n",
       "      <td>NaN</td>\n",
       "      <td>1.0</td>\n",
       "      <td>NaN</td>\n",
       "      <td>NaN</td>\n",
       "      <td>NaN</td>\n",
       "      <td>2.0</td>\n",
       "      <td>NaN</td>\n",
       "      <td>NaN</td>\n",
       "      <td>1.0</td>\n",
       "      <td>1.0</td>\n",
       "      <td>NaN</td>\n",
       "      <td>NaN</td>\n",
       "      <td>3.0</td>\n",
       "      <td>2.0</td>\n",
       "      <td>NaN</td>\n",
       "      <td>2.0</td>\n",
       "    </tr>\n",
       "    <tr>\n",
       "      <th>Volleyball</th>\n",
       "      <td>NaN</td>\n",
       "      <td>NaN</td>\n",
       "      <td>NaN</td>\n",
       "      <td>NaN</td>\n",
       "      <td>NaN</td>\n",
       "      <td>NaN</td>\n",
       "      <td>12.0</td>\n",
       "      <td>NaN</td>\n",
       "      <td>12.0</td>\n",
       "      <td>12.0</td>\n",
       "      <td>NaN</td>\n",
       "      <td>NaN</td>\n",
       "      <td>NaN</td>\n",
       "      <td>NaN</td>\n",
       "      <td>NaN</td>\n",
       "      <td>NaN</td>\n",
       "      <td>NaN</td>\n",
       "      <td>NaN</td>\n",
       "      <td>NaN</td>\n",
       "    </tr>\n",
       "    <tr>\n",
       "      <th>Weightlifting</th>\n",
       "      <td>NaN</td>\n",
       "      <td>NaN</td>\n",
       "      <td>NaN</td>\n",
       "      <td>NaN</td>\n",
       "      <td>NaN</td>\n",
       "      <td>NaN</td>\n",
       "      <td>1.0</td>\n",
       "      <td>1.0</td>\n",
       "      <td>NaN</td>\n",
       "      <td>NaN</td>\n",
       "      <td>NaN</td>\n",
       "      <td>NaN</td>\n",
       "      <td>NaN</td>\n",
       "      <td>NaN</td>\n",
       "      <td>NaN</td>\n",
       "      <td>NaN</td>\n",
       "      <td>NaN</td>\n",
       "      <td>NaN</td>\n",
       "      <td>NaN</td>\n",
       "    </tr>\n",
       "    <tr>\n",
       "      <th>Wrestling</th>\n",
       "      <td>NaN</td>\n",
       "      <td>NaN</td>\n",
       "      <td>NaN</td>\n",
       "      <td>1.0</td>\n",
       "      <td>2.0</td>\n",
       "      <td>NaN</td>\n",
       "      <td>5.0</td>\n",
       "      <td>4.0</td>\n",
       "      <td>2.0</td>\n",
       "      <td>2.0</td>\n",
       "      <td>2.0</td>\n",
       "      <td>2.0</td>\n",
       "      <td>NaN</td>\n",
       "      <td>NaN</td>\n",
       "      <td>NaN</td>\n",
       "      <td>2.0</td>\n",
       "      <td>2.0</td>\n",
       "      <td>4.0</td>\n",
       "      <td>4.0</td>\n",
       "    </tr>\n",
       "  </tbody>\n",
       "</table>\n",
       "</div>"
      ],
      "text/plain": [
       "Year           1928  1932  1936  1952  1956  1960  1964  1968  1972  1976  \\\n",
       "Sport                                                                       \n",
       "Athletics       1.0   1.0   2.0   NaN   NaN   NaN   NaN   NaN   NaN   NaN   \n",
       "Badminton       NaN   NaN   NaN   NaN   NaN   NaN   NaN   NaN   NaN   NaN   \n",
       "Boxing          NaN   NaN   NaN   NaN   NaN   NaN   1.0   NaN   NaN   NaN   \n",
       "Equestrianism   NaN   1.0   NaN   NaN   NaN   NaN   NaN   NaN   NaN   NaN   \n",
       "Gymnastics      NaN   NaN   NaN   NaN   1.0   9.0  10.0  11.0  10.0   8.0   \n",
       "Judo            NaN   NaN   NaN   NaN   NaN   NaN   3.0   NaN   3.0   3.0   \n",
       "Shooting        NaN   NaN   NaN   NaN   NaN   NaN   NaN   NaN   NaN   NaN   \n",
       "Softball        NaN   NaN   NaN   NaN   NaN   NaN   NaN   NaN   NaN   NaN   \n",
       "Swimming        1.0   8.0   7.0   NaN   1.0   NaN   NaN   NaN   2.0   NaN   \n",
       "Volleyball      NaN   NaN   NaN   NaN   NaN   NaN  12.0   NaN  12.0  12.0   \n",
       "Weightlifting   NaN   NaN   NaN   NaN   NaN   NaN   1.0   1.0   NaN   NaN   \n",
       "Wrestling       NaN   NaN   NaN   1.0   2.0   NaN   5.0   4.0   2.0   2.0   \n",
       "\n",
       "Year           1984  1988  1992  1996  2000  2004  2008  2012  2016  \n",
       "Sport                                                                \n",
       "Athletics       NaN   NaN   NaN   NaN   1.0   2.0   NaN   NaN   NaN  \n",
       "Badminton       NaN   NaN   NaN   NaN   NaN   NaN   NaN   NaN   2.0  \n",
       "Boxing          NaN   NaN   NaN   NaN   NaN   NaN   NaN   1.0   NaN  \n",
       "Equestrianism   NaN   NaN   NaN   NaN   NaN   NaN   NaN   NaN   NaN  \n",
       "Gymnastics      3.0   NaN   NaN   NaN   NaN   6.0   NaN   1.0   6.0  \n",
       "Judo            4.0   1.0   2.0   3.0   4.0   8.0   4.0   1.0   3.0  \n",
       "Shooting        1.0   NaN   NaN   NaN   NaN   NaN   NaN   NaN   NaN  \n",
       "Softball        NaN   NaN   NaN   NaN   NaN   NaN  15.0   NaN   NaN  \n",
       "Swimming        NaN   1.0   1.0   NaN   NaN   3.0   2.0   NaN   2.0  \n",
       "Volleyball      NaN   NaN   NaN   NaN   NaN   NaN   NaN   NaN   NaN  \n",
       "Weightlifting   NaN   NaN   NaN   NaN   NaN   NaN   NaN   NaN   NaN  \n",
       "Wrestling       2.0   2.0   NaN   NaN   NaN   2.0   2.0   4.0   4.0  "
      ]
     },
     "execution_count": 85,
     "metadata": {},
     "output_type": "execute_result"
    }
   ],
   "source": [
    "df_jp_heat = df_jp_sport1.pivot(\"Sport\", \"Year\", \"ID\")\n",
    "df_jp_heat"
   ]
  },
  {
   "cell_type": "code",
   "execution_count": 84,
   "metadata": {},
   "outputs": [
    {
     "data": {
      "text/plain": [
       "<matplotlib.axes._subplots.AxesSubplot at 0x7fe56a7760d0>"
      ]
     },
     "execution_count": 84,
     "metadata": {},
     "output_type": "execute_result"
    },
    {
     "data": {
      "image/png": "[encoded data removed]",
      "text/plain": [
       "<Figure size 1008x576 with 2 Axes>"
      ]
     },
     "metadata": {},
     "output_type": "display_data"
    }
   ],
   "source": [
    "plt.figure(figsize=(14,8))\n",
    "sns.heatmap(df_jp_heat, annot=True)"
   ]
  },
  {
   "cell_type": "markdown",
   "metadata": {},
   "source": [
    "# 問題➒\n",
    "DNAにコードされる遺伝情報は4つの文字（G,A,T,C）の並びで表されます。    \n",
    "この文字のことを塩基と呼び、DNA文字列のことをDNA塩基配列と呼びます。    \n",
    "塩基配列の長さは塩基数（単位： bp）で表記する習わしです。    \n",
    "メートル単位で、km = 1000 m とする様に、DNAの長さも 1 kbp = 1000 bpと表記します。    \n",
    "DNAの物質としての性質を決める因子としてGC含有率があります。    \n",
    "これは塩基配列内の「C」または「G」が占める割合によって与えられます。    \n",
    "    \n",
    "例：「AGCTATAG」のGCコンテンツは37.5％です。    \n",
    "     \n",
    "DNA配列をtextファイルに記載して、データベースに収載するときにIDを付ける必要があります。    \n",
    "一般に使用されるID付き書式は、FASTA形式と呼ばれます。    \n",
    "この書式では、１行目に「>」で始まるID文字列、後続の行には、DNA配列自体が含まれます。    \n",
    "DNA配列は改行を含んでも含まなくてもOKです。     \n",
    "    \n",
    "例：(\" \\ \" は無視して下さい）   \n",
    "\\> NM_6404   \n",
    "CCTGCGGAAGATCGGCACTAGAATAGCCAGAACCGTTTCTCTGAGGCTTCCGGCCTTCCC    \n",
    "TCCCACTAATAATTCTGAGG    \n",
    "\\> NM_6404     \n",
    "CCTGCGGAAGATCGGCACTAGAATAGCCAGAACCGTTTCTCTGAGGCTTCCGGCCTTCCC    \n",
    "TCCCACTAATAATTCTGAGG    \n",
    "\\> NM_5959    \n",
    "CCATCGGTAGCGCATCCTTAGTCCAATTAAGTCCCTATCCAGGCGCTCCGCCGAAGGTCT    \n",
    "ATATCCATTTGTCAGCAGACACGC    \n",
    "     \n",
    "上記の様に、複数の配列を続けて記載した場合を、multi-FASTA形式と呼ぶこともあります。    \n",
    "    \n",
    "１）最大10個のG,A,T,Cのランダムな配列を作成し、それをDNA配列とみなして    、\n",
    "適当なID名を付けたmulti-FASTA形式ファイルを作成してください（長さはそれぞれ最大1 kbpとします）。    \n",
    "２）1)のファイルを元に、GC含有率が最も高い塩基配列のIDとその配列のGC含有率、配列の長さを返り値とするコードを書いてください。    \n"
   ]
  },
  {
   "cell_type": "code",
   "execution_count": 16,
   "metadata": {},
   "outputs": [
    {
     "name": "stdout",
     "output_type": "stream",
     "text": [
      "/home/minioneskyblue/Documents/hanpy-dojo-202001\n"
     ]
    }
   ],
   "source": [
    "!pwd"
   ]
  },
  {
   "cell_type": "code",
   "execution_count": 23,
   "metadata": {
    "scrolled": true
   },
   "outputs": [
    {
     "data": {
      "text/plain": [
       "'>NM_0¥nCTCTCCGAAGCAGACCTAGCCTGAGTAGCCTTTCTAATGGCGTTCGCGGGAACATTTACACGAACGATATAACCGTCTTCGGAGGTTGTCGGATGGTACGGTCACCATTCATCTTAGGCTTTTAGAAATAACACAGGTCTCCAGTGCTATTCTGGAAACCAGCTCTACCTGCTGAGTCGACTCTCTAATTTCACGGGCTTGACGGAGCGGAGTCCACATCTTCAACCGGTGTCGACGTATGTTGCCCATATGCACGGTGTCACCAATCACTATAATTAGCAATATCATCAGTCACTACTTCTCGTCACCCCGAACACTGACAGGCACTTTAGTTTGCTCGGAACTCAGAGCGTCTCAACCCGTCTAAATCGCCATGAGGGCCTGCAATCGAGAAGATCGCCTGCCTTAAATATGCCTCTCCCGGCAGTGGATCGAGCATCTCTATGTCGTACGTCTCTGGCAATAATCTCTAAATGCCCATCTTCTAACGTTTAGACCTGTGTTGCCTTAGATTAACAGCGATCAAGCGGCCGCGGGGCAATCGGCCAGACTTGACAACCCGAACTGCCCTAGTATTCATGGTCCGCGAGGAATGCCTGAAGGCCACGTCTCCGGATAGTTTAACGACAATCCCTCAGGCACCCAACGGTGAGCACAGGTTAATTAGCGAGAGACCCGGAAACGACATTGTAGAGTTTGGGGAATCCGGTGTTAGAATGGATCCAGCGCCGATGAGTACAGGCACCAGTCGCGTCACCGAACGTTATTGCCCGACAAAAATAAAATAGATTCATCCGTCTAACAATTTCAACAAAGTACCCGACATGGATGCCCATACGGGCTGTATCCGGCGATAAGGTAGTGAACTGATGTTGCTTAAAAAGTCCGGGGCTGGACTTTCCTCCTGATCCCGGTGTGTACCGGGCA¥n>NM_1¥nAGCCCGTAGCGGTCACCCGACCTACTTTGCGGGTATCCAGATGGATCGGTAAGTGTAACGTACTTAGCCTAATTTATCCGCGGTCCCGATCACGCGATCCCGGTTCCCGGCGGAGTAAAATAAAGATACCGGGGTATATGGACCCCACATTGGGAATTATAACAATGCTGTTGGGACAACGACTGAAGCCCCAGCGGCGTCGGAGCTGATACGAAGAATTTGACCAGGAAGGGCGATTAGTAGGTAAATCAATAGCGCTTAGTTTCTTTGCTGCACATGCGCAATGGGAATTGTCCAATTCGGCCTGAGTGCGACCGGACGCATTTATCCCACTACGTACCTAAAGATTCTTGCGGGGCCGATATGTAAACTACCGGCCCCTTGGCTGACCCAAGATCTTCTATAAACCGGCGAGCTGTCATAGTACGGCTGCTAAAGGTGATCTTCATACATGGCCCATGTATGTCGCCCCTCGCGTTCAAATACGGTTCCTACTACGTACAGCCGCACTAACTAGGATATCTTCGCGCAGTATAGGTCGGTCAATGACGGGGGCAAATCCTTGCCCGCGAACCTTACGAGGCCCATTAGCTGTAATATTACTTGGTACCAGTTCGTGTTCACGCACCTAGGCAGTGCCTTTTTTCTCGCTCCAGACCCTCAAACCCCCATAAGACGGATTTACTGCTCGAGAATAGGTTCATCAATGTTGAGGAACACTAATACTTGCTCAAGGCTCAATGCTGTATAATCACCATCTACACGGTGCAACCAACCTGCCTAGGGCTTTCTTACCCGAAATACTTTGCACTGAAGGAATGCCAACATACTTCCTACCGGCGCATGAGAGTTTGAATAATTCAACCGGTTAAATCAAAGGCCAACG¥n>NM_2¥nCTCGTTGATGTTTACCCGACTAAGATATTGGGCTCTGAAGACGATAGTTTCTTACAAGACCTAGAATACATGTCCAAACATCCGGCCCTGTGTAATGTGCTACAAACAGGGCCATATCTACGTATCGAGTGTTATAGTATCAGGTAGGACCTCAATCATTGGGACGCTTTGGGAGTCGGGCTTGTGATCAACTACGCAACGCCATGGGTCCCGCACTGAAGATACCCACTCGCGTCCTTGTAAGAGGTGAGTTTCGTATTAGATATCAGTTGAACCACTGTTACCGCTAAGTATTCTTACCATGTACATGGTGACTTACTCGCCCAAGCTGCAAATTGATCAGAGTCCTCTAGCGTGGTAGTGGCTAATAGGCTCGTACACCGAAGCGTTGGAATATGCTTTGGATCCGGGGTATCGGGGCGTTGAGGATTGTGCCCTAACGGTTCATCCGCAGGGAAGGAAAGTGGTCTCCGACCCCATAACAACTTCAGATATTGGTGTAG¥n>NM_3¥nGGTGGACTGTACACTACACCTATATCGTTCAAGCAATCCAGCGGGAGATCTCACTGTTGGTATGCGGGAGACGGCGACGTATTGTGGCATCCCATCAGCCTCGACCGGTTAACCAAACGCTAGGACGACGCGATGGCCAGCGGGCTGAAAGTACGACTCATTAGAGTGCACCGCCGCTGAGCAACTCCATGTCCTGCGCGGACCGGAACTCATCCCGCACGTGATTACAAAATTATTGTGCTTTGTGGTCTGACTACACGATGGAGAAACGATCGGTAAGGTCGGGAAGTTGCTGATATCGGCGGCATCTGCCGTCGTGCCGGCTCGGCCCGCGAACTGCCTTTCAGGTGACCTCCTATATGTCACTCACAAAGTGGGTGCTCCGAAGGTGATCGATACATAATCTTTATCACAATTTGTTAACCAAAGAACACACCGACGCGTAGTGCAGTTTAGTGGTTTCAACAATCGGTGGTCCCCCGCGCCCTGCCCTTGCCCCGGCGGACTACAGGTCCTTCTCAGAATCGTCACGCGGCGGAACCGCTCACGTACAATACGTACCGTTCAAACTGGT¥n>NM_4¥nAGGAAAGGAGTGAGGATAGGTTTAATGTCTAAGCTAGGGGAGTCGACTAGTGGACCTGGAGATATCGTGCAGGCAAGTACGTGCACGACATACCACAGTGCGCTCTACAAAGACTCAGTACAAATAGAGATCTTACGAAAGCACCGCCCAATAACCGTGAATTGATATATGTTATTTATCGTACGCGTCATTGACATCCTAAACTTCTCGGCGCATACTAATAGGACACTTTATAGTAAAGCCCTTGCGTCGCTAGTGTAGACTGATAGCATGACGAAAACTGGTCAGACAGAATCAAGCCGGATTCGAGACACGAAGACATTGGAGCGCAACCCTGACGCAGATTGGGGATGGTTCGACAATCCGGGTTAGCATATTGTTTGAGGCTGCTTCGATTATGTAGACCCTCGCCCGGCATGGGGAAAGGGTTCTTTAGAGTACTTTACTGTAGACAGGCTAGTGTTGCCCATAAGTTACGCGCCTGACAAAACCGAACAATAACACGCAGACAGCCGGCTGTGAAAATATCACTTCAGGAAGAAAAATCTGGGCATCCGTTGCTATCTCTTCCATCCCGGGGGAGGATGAAATGCACGCTAAGAGTGAGTATACGCATTCAACTCGATTGGGAAGTTCCATCCCTGAATCTATTAGAACAGTAATGTGATACAGGGCAGTCCAACTTATATATGGCTGCTTGCGATAGAAGCAAATCCGATTAGCAGAGGCTGGCTAGTTATGATCCCTATAATGTTTAAAATCTTCGGGTGGCACAAGTTCCTTGGATTGAGGTCAGAACATGGATCAGACGCATTCATGATTGGGCGTCATTAGAGTCTAGTCTGGGTCGAGGAGGCGTAGAGGTGTTAGAATTTTTCCTTAAATGCTTGCGAAGATACAGTGGTAAATAGGCCGTGTCGCTTGATCCTGTTTATGCGACCCCCTCGGGA¥n>NM_5¥nGGGAATTCTGCCGAGTCACGGTGGCGTATCATAATCTATTGCAGCCTGGCTCGTCTAGAAACAATACCAACTCGCAATTGAGGTCGCTCATTCGTTACGAGAGTATGGTCTAAGGGTGCAGCCTCCATGTTTCACAGGCGGAAGGGCCATGTAGCTGCAGAGCAGAAGGTCCTATCGATAAGATGTGTTCCGCAACCCGGAGCCGTATAGTGGTTCTCTGTAGGTCTCATCCGTGGCATAGACTAAGCACGTCCCTGTGGAACAGTGCTGAGATACGGTCCTGATCCGAGGGCAAGACCAGGAGGCATAATAATGCTGGGGACCCCGCTTAGTCCTCTTCTACTCGCAACAACTGTGCTGACCGTGGCGGATGGCGTCATGGGTCTCTCCGTGGGAGCTGAAATTCATTGCTTTATCTTTTAATTCCCATCCACGAGAATTCGTTAGCTTCGAATCCCTGCATCAGGCACCCTATTTAGAGGTTTGACAAAACTTCAAATTCACAGTGGCTAAACGCAGATCGATACCCAAATCCGACCTTACTTTCAGGCGCTGCCTACAGCCGCTGGCTTGCCCATGTCCCCTAAGGTGTGCATCTTAATTCTCACTTAGGATGAGAGGACACTTTACTCCGCGATACACGGCGCTGCAGTCCCCGCCTCGTATAGGGCAATCCTAAATAAGCCTAATTT¥n>NM_6¥nAGCCTACCCTGTTGAGCCCTCCTCTGGCAAATCGTGCCGCCAAATATTGATAAGTAGAAAATTTTGCGGCTCACTGCCGAGGTTCCACCGCGGCCGGTAGGATAAACTCGCGGTAGTACTAGGGTGTCGCTTAATA¥n>NM_7¥nGACGTATAAGCGCACGCATTCATGTCACTTACGCTACAAGATGGAAGTGTATGAAGCCACTCTAGCGCAAATTATGAGGTGCTTATGATACCAACAGCGTGCGATACTTCACCGAGCTACACTGGTATGCCTTTCATGGCTATGGGAAATTTGGGGTATATACACTGAGTACCTAAATCATTACAAGGTTAATTGACCTTGCCCGCGTGCAATATTTCGTTATCTTAGGAAACGGGAGGCATGCCTGCCTACATCGGATAGATTCAAAATGTAGTCATTTGTTGACTAATCCCCGCGTGGATTAAATAATTGCTTTTCCGGGGGGGGCTTGTTTCCCCTCTTG¥n>NM_8¥nCCAAGAGGACGTGTCCGCTATCTTATCCGAGGACTTTCTACACGGTATCTGCACCAGAGACAGACGAGGCGATTACTTCAACCTCCGGCCGTACATAAACCATTCCAA¥n>NM_9¥nTCAAAAGTACTCACGACCGTCCGCGCAGTTCGAGTTAGATACCCGCAGACTCCTAGCTTCCTGCCAAGGAACCCACGCTCTCGTGACGGAAATAAAGGTCAAACTGTGATTGCCACAAAGGAACATCTAGCTGATCATACTGTTAGGATATTTGTGTAGCGGTGTCTTCAGGAACAATTTGTATTCCCGACTGCCCAGAGTATAGTGTACCATGGTGTCACAAACAGGCCTTTAATAACGGATAGACGCTGATGTAGTTACACTGAATGGCATATGAGCCGGACTTGAGCAGCGTCTTTAGTGAAGAGCTGCGATTCTATAGGCAGCGCTCGTTCCCGCACTAAAGGACTTGATTCTCTCAGGCTCTACCTTCCGCTAATATATTAAAACTAACGCGTTAGTTGTCTATAACGGAATGGAGGT'"
      ]
     },
     "execution_count": 23,
     "metadata": {},
     "output_type": "execute_result"
    }
   ],
   "source": [
    "import random\n",
    "str_seed=['G','C','A','T']\n",
    "# for i in range(10):\n",
    "#     print('>NM_%d'%i)\n",
    "#     print(''.join([random.choice(str_seed) for _ in range(random.randrange(100,1000))]))\n",
    "multi_FASTA_str='¥n'.join(['>NM_%d'%i+'¥n'+''.join([random.choice(str_seed)\n",
    "                                                   for _ in range(random.randrange(100,1000))])\n",
    "                          for i in range(10)])\n",
    "with open('./multi-FASTA.txt',mode='w') as f:\n",
    "    f.write(multi_FASTA_str)\n",
    "multi_FASTA_str"
   ]
  },
  {
   "cell_type": "code",
   "execution_count": 40,
   "metadata": {},
   "outputs": [
    {
     "data": {
      "text/plain": [
       "['NM_3', 0.5452961672473867, 574]"
      ]
     },
     "execution_count": 40,
     "metadata": {},
     "output_type": "execute_result"
    }
   ],
   "source": [
    "with open('./multi-FASTA.txt') as f:\n",
    "    multi_FASTA_str2=f.read()\n",
    "multi_FASTA_dic=multi_FASTA_str2.split('¥n')\n",
    "multi_FASTA_dic={key:value for key,value in zip([ele[1:] for i,ele in enumerate(multi_FASTA_dic) if i%2==0],\n",
    "                                                [ele for i,ele in enumerate(multi_FASTA_dic) if i%2!=0])}\n",
    "multi_FASTA_dic_result={key:len([ele for ele in list(value) if ele in ['G','C']])/len(list(value))\n",
    "                        for key,value in multi_FASTA_dic.items()}\n",
    "[[key,value,len(list(multi_FASTA_dic[key]))]\n",
    "  for key,value in multi_FASTA_dic_result.items()\n",
    "  if value==max(multi_FASTA_dic_result.values())][0]"
   ]
  },
  {
   "cell_type": "markdown",
   "metadata": {},
   "source": [
    "# 問題➓\n",
    "https://atcoder.jp/contests/abc081/tasks/abc081_b\n",
    "    \n",
    "【問題概要】\n",
    "黒板に N 個の正の整数 A1,A2…,,…,AN が書かれています。\n",
    "すぬけ君は，黒板に書かれている整数がすべて偶数であるとき，次の操作を行うことができます。\n",
    "\n",
    "黒板に書かれている整数すべてを，2 で割ったものに置き換える。\n",
    "すぬけ君は最大で何回操作を行うことができるかを求めてください。\n",
    "\n",
    "【制約】\n",
    "\n",
    "1≤N≤200\n",
    "1≤Ai≤10^9\n",
    "【数値例】\n",
    "1)\n",
    "　N=3\n",
    "　A=(16,12,24)\n",
    "　答え: 2\n",
    "1 回操作を行うと (8, 6, 12) になります。2 回操作を行うと (4, 3, 6) になります。2 個目の 3 が奇数なため 3 回目の操作は行えません。\n"
   ]
  },
  {
   "cell_type": "code",
   "execution_count": 49,
   "metadata": {},
   "outputs": [
    {
     "name": "stdout",
     "output_type": "stream",
     "text": [
      "2\n"
     ]
    }
   ],
   "source": [
    "import numpy as np\n",
    "N=3\n",
    "A=np.array([8,12,40])\n",
    "i=0\n",
    "while True:\n",
    "    if not (A%2==0).all():\n",
    "        break\n",
    "    A=A//2\n",
    "    i+=1\n",
    "print(i)"
   ]
  },
  {
   "cell_type": "code",
   "execution_count": 50,
   "metadata": {},
   "outputs": [
    {
     "name": "stdout",
     "output_type": "stream",
     "text": [
      "0\n"
     ]
    }
   ],
   "source": [
    "N=4\n",
    "A=np.array([5,6,8,10])\n",
    "i=0\n",
    "while True:\n",
    "    if not (A%2==0).all():\n",
    "        break\n",
    "    A=A//2\n",
    "    i+=1\n",
    "print(i)"
   ]
  },
  {
   "cell_type": "code",
   "execution_count": 51,
   "metadata": {},
   "outputs": [
    {
     "name": "stdout",
     "output_type": "stream",
     "text": [
      "8\n"
     ]
    }
   ],
   "source": [
    "N=6\n",
    "A=np.array([382253568,723152896,37802240,379425024,404894720,471526144])\n",
    "i=0\n",
    "while True:\n",
    "    if not (A%2==0).all():\n",
    "        break\n",
    "    A=A//2\n",
    "    i+=1\n",
    "print(i)"
   ]
  }
 ],
 "metadata": {
  "kernelspec": {
   "display_name": "Python 3",
   "language": "python",
   "name": "python3"
  },
  "language_info": {
   "codemirror_mode": {
    "name": "ipython",
    "version": 3
   },
   "file_extension": ".py",
   "mimetype": "text/x-python",
   "name": "python",
   "nbconvert_exporter": "python",
   "pygments_lexer": "ipython3",
   "version": "3.7.5"
  }
 },
 "nbformat": 4,
 "nbformat_minor": 4
}
