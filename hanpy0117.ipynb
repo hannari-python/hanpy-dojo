{
 "cells": [
  {
   "cell_type": "markdown",
   "metadata": {},
   "source": [
    "# Hanpy Dojo 20200117 問題\n",
    "- 自分の解きたいものだけ解いてもらってよいです\n",
    "- わからない場合、ググってもらえばよいですが、答えを直接探すのは自分のためになりません"
   ]
  },
  {
   "cell_type": "markdown",
   "metadata": {},
   "source": [
    "# 問題➊-1\n",
    "\n",
    "文字列 \"HanpyDojoatSpookies\" を作成し、その文字列を逆から表示しましょう。"
   ]
  },
  {
   "cell_type": "code",
   "execution_count": 1,
   "metadata": {},
   "outputs": [],
   "source": [
    "s = \"HanpyDojoatSpookies\""
   ]
  },
  {
   "cell_type": "code",
   "execution_count": 2,
   "metadata": {},
   "outputs": [
    {
     "data": {
      "text/plain": [
       "'seikoopStaojoDypnaH'"
      ]
     },
     "execution_count": 2,
     "metadata": {},
     "output_type": "execute_result"
    }
   ],
   "source": [
    "s[::-1]"
   ]
  },
  {
   "cell_type": "markdown",
   "metadata": {},
   "source": [
    "# 問題➊-2\n",
    "\n",
    "➊で作成した文字列を使い、前から奇数にある文字列と、偶数にある文字列を作成しましょう。"
   ]
  },
  {
   "cell_type": "code",
   "execution_count": 6,
   "metadata": {},
   "outputs": [
    {
     "data": {
      "text/plain": [
       "'Hnyootpois'"
      ]
     },
     "execution_count": 6,
     "metadata": {},
     "output_type": "execute_result"
    }
   ],
   "source": [
    "s[::2]"
   ]
  },
  {
   "cell_type": "code",
   "execution_count": 9,
   "metadata": {},
   "outputs": [
    {
     "data": {
      "text/plain": [
       "'apDjaSoke'"
      ]
     },
     "execution_count": 9,
     "metadata": {},
     "output_type": "execute_result"
    }
   ],
   "source": [
    "s[1::2]"
   ]
  },
  {
   "cell_type": "markdown",
   "metadata": {},
   "source": [
    "# 問題➋-1\n",
    "\n",
    "0～30までの数値が入ったリストを作成しましょう。"
   ]
  },
  {
   "cell_type": "code",
   "execution_count": 11,
   "metadata": {},
   "outputs": [],
   "source": [
    "nums_list = [i for i in range(31)]"
   ]
  },
  {
   "cell_type": "code",
   "execution_count": 12,
   "metadata": {},
   "outputs": [
    {
     "data": {
      "text/plain": [
       "[0,\n",
       " 1,\n",
       " 2,\n",
       " 3,\n",
       " 4,\n",
       " 5,\n",
       " 6,\n",
       " 7,\n",
       " 8,\n",
       " 9,\n",
       " 10,\n",
       " 11,\n",
       " 12,\n",
       " 13,\n",
       " 14,\n",
       " 15,\n",
       " 16,\n",
       " 17,\n",
       " 18,\n",
       " 19,\n",
       " 20,\n",
       " 21,\n",
       " 22,\n",
       " 23,\n",
       " 24,\n",
       " 25,\n",
       " 26,\n",
       " 27,\n",
       " 28,\n",
       " 29,\n",
       " 30]"
      ]
     },
     "execution_count": 12,
     "metadata": {},
     "output_type": "execute_result"
    }
   ],
   "source": [
    "nums_list"
   ]
  },
  {
   "cell_type": "markdown",
   "metadata": {},
   "source": [
    "# 問題➋－2\n",
    "➋で作成したリストから、奇数のみのリストを作成しましょう。"
   ]
  },
  {
   "cell_type": "code",
   "execution_count": 13,
   "metadata": {},
   "outputs": [
    {
     "data": {
      "text/plain": [
       "[1, 3, 5, 7, 9, 11, 13, 15, 17, 19, 21, 23, 25, 27, 29]"
      ]
     },
     "execution_count": 13,
     "metadata": {},
     "output_type": "execute_result"
    }
   ],
   "source": [
    "list(filter(lambda x: x%2 == 1, nums_list))"
   ]
  },
  {
   "cell_type": "code",
   "execution_count": null,
   "metadata": {},
   "outputs": [],
   "source": []
  },
  {
   "cell_type": "markdown",
   "metadata": {},
   "source": [
    "# 問題➌-1\n",
    "\n",
    "stringモジュールのascii_lettersを用いて、4文字のランダムな文字列を作成しましょう。"
   ]
  },
  {
   "cell_type": "code",
   "execution_count": null,
   "metadata": {},
   "outputs": [],
   "source": []
  },
  {
   "cell_type": "code",
   "execution_count": null,
   "metadata": {},
   "outputs": [],
   "source": []
  },
  {
   "cell_type": "markdown",
   "metadata": {},
   "source": [
    "# 問題➌-2\n",
    "ランダムな文字列を作る関数を作成してください。長さは引数で変更できるようにしましょう。"
   ]
  },
  {
   "cell_type": "code",
   "execution_count": null,
   "metadata": {},
   "outputs": [],
   "source": []
  },
  {
   "cell_type": "code",
   "execution_count": null,
   "metadata": {},
   "outputs": [],
   "source": []
  },
  {
   "cell_type": "markdown",
   "metadata": {},
   "source": [
    "# 問題➌-3\n",
    "\n",
    "➌-1の文字列を100個作成して、文字列の頭文字をキー、文字列を値に持つ辞書を作成してください\n"
   ]
  },
  {
   "cell_type": "code",
   "execution_count": null,
   "metadata": {},
   "outputs": [],
   "source": []
  },
  {
   "cell_type": "code",
   "execution_count": null,
   "metadata": {},
   "outputs": [],
   "source": []
  },
  {
   "cell_type": "markdown",
   "metadata": {},
   "source": [
    "# 問題➍　3と5の倍数\n",
    "http://odz.sakura.ne.jp/projecteuler/     \n",
    "10未満の自然数のうち, 3 もしくは 5 の倍数になっているものは 3, 5, 6, 9 の4つがあり, これらの合計は 23 になる.\n",
    "\n",
    "同じようにして, 1000 未満の 3 か 5 の倍数になっている数字の合計を求めよ."
   ]
  },
  {
   "cell_type": "code",
   "execution_count": null,
   "metadata": {},
   "outputs": [],
   "source": []
  },
  {
   "cell_type": "code",
   "execution_count": null,
   "metadata": {},
   "outputs": [],
   "source": []
  },
  {
   "cell_type": "markdown",
   "metadata": {},
   "source": [
    "# 問題➎  \n",
    "http://odz.sakura.ne.jp/projecteuler/     \n",
    "13195 の素因数は 5, 7, 13, 29 である.\n",
    "\n",
    "600851475143 の素因数のうち最大のものを求めよ."
   ]
  },
  {
   "cell_type": "code",
   "execution_count": null,
   "metadata": {},
   "outputs": [],
   "source": []
  },
  {
   "cell_type": "code",
   "execution_count": null,
   "metadata": {},
   "outputs": [],
   "source": []
  },
  {
   "cell_type": "markdown",
   "metadata": {},
   "source": [
    "# 問題➏\n",
    "http://odz.sakura.ne.jp/projecteuler/     \n",
    "フィボナッチ数列の項は前の2つの項の和である. 最初の2項を 1, 2 とすれば, 最初の10項は以下の通りである.\n",
    "\n",
    "1, 2, 3, 5, 8, 13, 21, 34, 55, 89, ...\n",
    "数列の項の値が400万以下の, 偶数値の項の総和を求めよ."
   ]
  },
  {
   "cell_type": "code",
   "execution_count": null,
   "metadata": {},
   "outputs": [],
   "source": []
  },
  {
   "cell_type": "code",
   "execution_count": null,
   "metadata": {},
   "outputs": [],
   "source": []
  },
  {
   "cell_type": "markdown",
   "metadata": {},
   "source": [
    "# 問題➐-1\n",
    "assetsフォルダに画像が2つあります。読み込んで表示してください。     \n",
    "次に、画像のデータの形を表示してください。     \n",
    "     \n",
    "画像の読み込みに使えるライブラリは以下のようにたくさんあります。\n",
    "- Pillow https://pillow.readthedocs.io/en/stable/\n",
    "- opencv https://pypi.org/project/opencv-python/\n",
    "- scikit image https://scikit-image.org/"
   ]
  },
  {
   "cell_type": "code",
   "execution_count": null,
   "metadata": {},
   "outputs": [],
   "source": []
  },
  {
   "cell_type": "code",
   "execution_count": null,
   "metadata": {},
   "outputs": [],
   "source": []
  },
  {
   "cell_type": "markdown",
   "metadata": {},
   "source": [
    "# 問題➐-2\n",
    "読み込んだ画像を緑、青、赤のみで表示してください。    \n",
    "画像は先ほど見たように縦×横×色のデータになっています。     \n",
    "      \n",
    "それができたら画像をグレースケールにしてください。以下の式に当てはめるとグレースケール化できます。        \n",
    "Y = 0.2126R + 0.7152G + 0.0722B\n"
   ]
  },
  {
   "cell_type": "code",
   "execution_count": null,
   "metadata": {},
   "outputs": [],
   "source": []
  },
  {
   "cell_type": "code",
   "execution_count": null,
   "metadata": {},
   "outputs": [],
   "source": []
  },
  {
   "cell_type": "markdown",
   "metadata": {},
   "source": [
    "# 問題➑-1\n",
    "\n",
    "\n",
    "夏のオリンピックCSVデータがassetフォルダにあります。    \n",
    "pandasのread_csvメソッドで読み込めます。    \n",
    "     \n",
    "データのサイズも確認しましょう。\n"
   ]
  },
  {
   "cell_type": "code",
   "execution_count": null,
   "metadata": {},
   "outputs": [],
   "source": []
  },
  {
   "cell_type": "code",
   "execution_count": null,
   "metadata": {},
   "outputs": [],
   "source": []
  },
  {
   "cell_type": "markdown",
   "metadata": {},
   "source": [
    "# 問題➑-2\n",
    "\n",
    "これまでの日本の金メダリスト数を可視化しましょう。    \n",
    "可視化ツールには以下のものがあります。    \n",
    "matplotlib : 言わずと知れた　https://matplotlib.org/     \n",
    "seaborn : matplotlibのラッパ https://seaborn.pydata.org/      \n",
    "plotly : インタラクティブ https://plot.ly/python/      \n",
    "plotly.express : plotlyのラッパ https://plot.ly/python/plotly-express/     \n",
    "altair : インタラクティブ https://altair-viz.github.io/gallery/index.html"
   ]
  },
  {
   "cell_type": "code",
   "execution_count": null,
   "metadata": {},
   "outputs": [],
   "source": []
  },
  {
   "cell_type": "code",
   "execution_count": null,
   "metadata": {},
   "outputs": [],
   "source": []
  },
  {
   "cell_type": "markdown",
   "metadata": {},
   "source": [
    "# 問題➑-3\n",
    "\n",
    "日本の競技あたりの金メダル数を可視化しましょう。"
   ]
  },
  {
   "cell_type": "code",
   "execution_count": null,
   "metadata": {},
   "outputs": [],
   "source": []
  },
  {
   "cell_type": "code",
   "execution_count": null,
   "metadata": {},
   "outputs": [],
   "source": []
  },
  {
   "cell_type": "markdown",
   "metadata": {},
   "source": [
    "# 問題➒\n",
    "DNAにコードされる遺伝情報は4つの文字（G,A,T,C）の並びで表されます。    \n",
    "この文字のことを塩基と呼び、DNA文字列のことをDNA塩基配列と呼びます。    \n",
    "塩基配列の長さは塩基数（単位： bp）で表記する習わしです。    \n",
    "メートル単位で、km = 1000 m とする様に、DNAの長さも 1 kbp = 1000 bpと表記します。    \n",
    "DNAの物質としての性質を決める因子としてGC含有率があります。    \n",
    "これは塩基配列内の「C」または「G」が占める割合によって与えられます。    \n",
    "    \n",
    "例：「AGCTATAG」のGCコンテンツは37.5％です。    \n",
    "     \n",
    "DNA配列をtextファイルに記載して、データベースに収載するときにIDを付ける必要があります。    \n",
    "一般に使用されるID付き書式は、FASTA形式と呼ばれます。    \n",
    "この書式では、１行目に「>」で始まるID文字列、後続の行には、DNA配列自体が含まれます。    \n",
    "DNA配列は改行を含んでも含まなくてもOKです。     \n",
    "    \n",
    "例：(\" \\ \" は無視して下さい）   \n",
    "\\> NM_6404   \n",
    "CCTGCGGAAGATCGGCACTAGAATAGCCAGAACCGTTTCTCTGAGGCTTCCGGCCTTCCC    \n",
    "TCCCACTAATAATTCTGAGG    \n",
    "\\> NM_6404     \n",
    "CCTGCGGAAGATCGGCACTAGAATAGCCAGAACCGTTTCTCTGAGGCTTCCGGCCTTCCC    \n",
    "TCCCACTAATAATTCTGAGG    \n",
    "\\> NM_5959    \n",
    "CCATCGGTAGCGCATCCTTAGTCCAATTAAGTCCCTATCCAGGCGCTCCGCCGAAGGTCT    \n",
    "ATATCCATTTGTCAGCAGACACGC    \n",
    "     \n",
    "上記の様に、複数の配列を続けて記載した場合を、multi-FASTA形式と呼ぶこともあります。    \n",
    "    \n",
    "１）最大10個のG,A,T,Cのランダムな配列を作成し、それをDNA配列とみなして    、\n",
    "適当なID名を付けたmulti-FASTA形式ファイルを作成してください（長さはそれぞれ最大1 kbpとします）。    \n",
    "２）1)のファイルを元に、GC含有率が最も高い塩基配列のIDとその配列のGC含有率、配列の長さを返り値とするコードを書いてください。    \n"
   ]
  },
  {
   "cell_type": "code",
   "execution_count": null,
   "metadata": {},
   "outputs": [],
   "source": []
  },
  {
   "cell_type": "code",
   "execution_count": null,
   "metadata": {},
   "outputs": [],
   "source": []
  },
  {
   "cell_type": "markdown",
   "metadata": {},
   "source": [
    "# 問題➓\n",
    "https://atcoder.jp/contests/abc081/tasks/abc081_b\n",
    "    \n",
    "【問題概要】\n",
    "黒板に N 個の正の整数 A1,A2…,,…,AN が書かれています。\n",
    "すぬけ君は，黒板に書かれている整数がすべて偶数であるとき，次の操作を行うことができます。\n",
    "\n",
    "黒板に書かれている整数すべてを，2 で割ったものに置き換える。\n",
    "すぬけ君は最大で何回操作を行うことができるかを求めてください。\n",
    "\n",
    "【制約】\n",
    "\n",
    "1≤N≤200\n",
    "1≤Ai≤10^9\n",
    "【数値例】\n",
    "1)\n",
    "　N=3\n",
    "　A=(16,12,24)\n",
    "　答え: 2\n",
    "1 回操作を行うと (8, 6, 12) になります。2 回操作を行うと (4, 3, 6) になります。2 個目の 3 が奇数なため 3 回目の操作は行えません。\n"
   ]
  },
  {
   "cell_type": "code",
   "execution_count": null,
   "metadata": {},
   "outputs": [],
   "source": []
  },
  {
   "cell_type": "code",
   "execution_count": null,
   "metadata": {},
   "outputs": [],
   "source": []
  },
  {
   "cell_type": "code",
   "execution_count": null,
   "metadata": {},
   "outputs": [],
   "source": []
  }
 ],
 "metadata": {
  "kernelspec": {
   "display_name": "Python 3",
   "language": "python",
   "name": "python3"
  },
  "language_info": {
   "codemirror_mode": {
    "name": "ipython",
    "version": 3
   },
   "file_extension": ".py",
   "mimetype": "text/x-python",
   "name": "python",
   "nbconvert_exporter": "python",
   "pygments_lexer": "ipython3",
   "version": "3.6.9"
  }
 },
 "nbformat": 4,
 "nbformat_minor": 4
}
