{
 "cells": [
  {
   "cell_type": "markdown",
   "metadata": {},
   "source": [
    "# Hanpy Dojo 20200117 問題\n",
    "- 自分の解きたいものだけ解いてもらってよいです\n",
    "- わからない場合、ググってもらえばよいですが、答えを直接探すのは自分のためになりません"
   ]
  },
  {
   "cell_type": "markdown",
   "metadata": {},
   "source": [
    "# 問題➊-1\n",
    "\n",
    "文字列 \"HanpyDojoatSpookies\" を作成し、その文字列を逆から表示しましょう。"
   ]
  },
  {
   "cell_type": "code",
   "execution_count": 94,
   "metadata": {},
   "outputs": [
    {
     "data": {
      "text/plain": [
       "'\"seikoopStaojoDypnaH\"'"
      ]
     },
     "execution_count": 94,
     "metadata": {},
     "output_type": "execute_result"
    }
   ],
   "source": [
    "str1='\"HanpyDojoatSpookies\"'\n",
    "str1[::-1]"
   ]
  },
  {
   "cell_type": "markdown",
   "metadata": {},
   "source": [
    "# 問題➊-2\n",
    "\n",
    "➊で作成した文字列を使い、前から奇数にある文字列と、偶数にある文字列を作成しましょう。"
   ]
  },
  {
   "cell_type": "code",
   "execution_count": null,
   "metadata": {},
   "outputs": [],
   "source": []
  },
  {
   "cell_type": "code",
   "execution_count": null,
   "metadata": {},
   "outputs": [],
   "source": []
  },
  {
   "cell_type": "markdown",
   "metadata": {},
   "source": [
    "# 問題➋-1\n",
    "\n",
    "0～30までの数値が入ったリストを作成しましょう。"
   ]
  },
  {
   "cell_type": "code",
   "execution_count": null,
   "metadata": {},
   "outputs": [],
   "source": []
  },
  {
   "cell_type": "code",
   "execution_count": null,
   "metadata": {},
   "outputs": [],
   "source": []
  },
  {
   "cell_type": "markdown",
   "metadata": {},
   "source": [
    "# 問題➋－2\n",
    "➋で作成したリストから、奇数のみのリストを作成しましょう。"
   ]
  },
  {
   "cell_type": "code",
   "execution_count": null,
   "metadata": {},
   "outputs": [],
   "source": []
  },
  {
   "cell_type": "code",
   "execution_count": null,
   "metadata": {},
   "outputs": [],
   "source": []
  },
  {
   "cell_type": "markdown",
   "metadata": {},
   "source": [
    "# 問題➌-1\n",
    "\n",
    "stringモジュールのascii_lettersを用いて、4文字のランダムな文字列を作成しましょう。"
   ]
  },
  {
   "cell_type": "code",
   "execution_count": null,
   "metadata": {},
   "outputs": [],
   "source": []
  },
  {
   "cell_type": "code",
   "execution_count": null,
   "metadata": {},
   "outputs": [],
   "source": []
  },
  {
   "cell_type": "markdown",
   "metadata": {},
   "source": [
    "# 問題➌-2\n",
    "ランダムな文字列を作る関数を作成してください。長さは引数で変更できるようにしましょう。"
   ]
  },
  {
   "cell_type": "code",
   "execution_count": null,
   "metadata": {},
   "outputs": [],
   "source": []
  },
  {
   "cell_type": "code",
   "execution_count": null,
   "metadata": {},
   "outputs": [],
   "source": []
  },
  {
   "cell_type": "markdown",
   "metadata": {},
   "source": [
    "# 問題➌-3\n",
    "\n",
    "➌-1の文字列を100個作成して、文字列の頭文字をキー、文字列を値に持つ辞書を作成してください\n"
   ]
  },
  {
   "cell_type": "code",
   "execution_count": null,
   "metadata": {},
   "outputs": [],
   "source": []
  },
  {
   "cell_type": "code",
   "execution_count": null,
   "metadata": {},
   "outputs": [],
   "source": []
  },
  {
   "cell_type": "markdown",
   "metadata": {},
   "source": [
    "# 問題➍　3と5の倍数\n",
    "http://odz.sakura.ne.jp/projecteuler/     \n",
    "10未満の自然数のうち, 3 もしくは 5 の倍数になっているものは 3, 5, 6, 9 の4つがあり, これらの合計は 23 になる.\n",
    "\n",
    "同じようにして, 1000 未満の 3 か 5 の倍数になっている数字の合計を求めよ."
   ]
  },
  {
   "cell_type": "code",
   "execution_count": 85,
   "metadata": {},
   "outputs": [
    {
     "data": {
      "text/plain": [
       "233168"
      ]
     },
     "execution_count": 85,
     "metadata": {},
     "output_type": "execute_result"
    }
   ],
   "source": [
    "sum([i for i in range(1,1000) if (i%3==0)|(i%5==0)])"
   ]
  },
  {
   "cell_type": "code",
   "execution_count": 86,
   "metadata": {
    "scrolled": true
   },
   "outputs": [
    {
     "data": {
      "text/plain": [
       "[3,\n",
       " 5,\n",
       " 6,\n",
       " 9,\n",
       " 10,\n",
       " 12,\n",
       " 15,\n",
       " 18,\n",
       " 20,\n",
       " 21,\n",
       " 24,\n",
       " 25,\n",
       " 27,\n",
       " 30,\n",
       " 33,\n",
       " 35,\n",
       " 36,\n",
       " 39,\n",
       " 40,\n",
       " 42,\n",
       " 45,\n",
       " 48,\n",
       " 50,\n",
       " 51,\n",
       " 54,\n",
       " 55,\n",
       " 57,\n",
       " 60,\n",
       " 63,\n",
       " 65,\n",
       " 66,\n",
       " 69,\n",
       " 70,\n",
       " 72,\n",
       " 75,\n",
       " 78,\n",
       " 80,\n",
       " 81,\n",
       " 84,\n",
       " 85,\n",
       " 87,\n",
       " 90,\n",
       " 93,\n",
       " 95,\n",
       " 96,\n",
       " 99,\n",
       " 100,\n",
       " 102,\n",
       " 105,\n",
       " 108,\n",
       " 110,\n",
       " 111,\n",
       " 114,\n",
       " 115,\n",
       " 117,\n",
       " 120,\n",
       " 123,\n",
       " 125,\n",
       " 126,\n",
       " 129,\n",
       " 130,\n",
       " 132,\n",
       " 135,\n",
       " 138,\n",
       " 140,\n",
       " 141,\n",
       " 144,\n",
       " 145,\n",
       " 147,\n",
       " 150,\n",
       " 153,\n",
       " 155,\n",
       " 156,\n",
       " 159,\n",
       " 160,\n",
       " 162,\n",
       " 165,\n",
       " 168,\n",
       " 170,\n",
       " 171,\n",
       " 174,\n",
       " 175,\n",
       " 177,\n",
       " 180,\n",
       " 183,\n",
       " 185,\n",
       " 186,\n",
       " 189,\n",
       " 190,\n",
       " 192,\n",
       " 195,\n",
       " 198,\n",
       " 200,\n",
       " 201,\n",
       " 204,\n",
       " 205,\n",
       " 207,\n",
       " 210,\n",
       " 213,\n",
       " 215,\n",
       " 216,\n",
       " 219,\n",
       " 220,\n",
       " 222,\n",
       " 225,\n",
       " 228,\n",
       " 230,\n",
       " 231,\n",
       " 234,\n",
       " 235,\n",
       " 237,\n",
       " 240,\n",
       " 243,\n",
       " 245,\n",
       " 246,\n",
       " 249,\n",
       " 250,\n",
       " 252,\n",
       " 255,\n",
       " 258,\n",
       " 260,\n",
       " 261,\n",
       " 264,\n",
       " 265,\n",
       " 267,\n",
       " 270,\n",
       " 273,\n",
       " 275,\n",
       " 276,\n",
       " 279,\n",
       " 280,\n",
       " 282,\n",
       " 285,\n",
       " 288,\n",
       " 290,\n",
       " 291,\n",
       " 294,\n",
       " 295,\n",
       " 297,\n",
       " 300,\n",
       " 303,\n",
       " 305,\n",
       " 306,\n",
       " 309,\n",
       " 310,\n",
       " 312,\n",
       " 315,\n",
       " 318,\n",
       " 320,\n",
       " 321,\n",
       " 324,\n",
       " 325,\n",
       " 327,\n",
       " 330,\n",
       " 333,\n",
       " 335,\n",
       " 336,\n",
       " 339,\n",
       " 340,\n",
       " 342,\n",
       " 345,\n",
       " 348,\n",
       " 350,\n",
       " 351,\n",
       " 354,\n",
       " 355,\n",
       " 357,\n",
       " 360,\n",
       " 363,\n",
       " 365,\n",
       " 366,\n",
       " 369,\n",
       " 370,\n",
       " 372,\n",
       " 375,\n",
       " 378,\n",
       " 380,\n",
       " 381,\n",
       " 384,\n",
       " 385,\n",
       " 387,\n",
       " 390,\n",
       " 393,\n",
       " 395,\n",
       " 396,\n",
       " 399,\n",
       " 400,\n",
       " 402,\n",
       " 405,\n",
       " 408,\n",
       " 410,\n",
       " 411,\n",
       " 414,\n",
       " 415,\n",
       " 417,\n",
       " 420,\n",
       " 423,\n",
       " 425,\n",
       " 426,\n",
       " 429,\n",
       " 430,\n",
       " 432,\n",
       " 435,\n",
       " 438,\n",
       " 440,\n",
       " 441,\n",
       " 444,\n",
       " 445,\n",
       " 447,\n",
       " 450,\n",
       " 453,\n",
       " 455,\n",
       " 456,\n",
       " 459,\n",
       " 460,\n",
       " 462,\n",
       " 465,\n",
       " 468,\n",
       " 470,\n",
       " 471,\n",
       " 474,\n",
       " 475,\n",
       " 477,\n",
       " 480,\n",
       " 483,\n",
       " 485,\n",
       " 486,\n",
       " 489,\n",
       " 490,\n",
       " 492,\n",
       " 495,\n",
       " 498,\n",
       " 500,\n",
       " 501,\n",
       " 504,\n",
       " 505,\n",
       " 507,\n",
       " 510,\n",
       " 513,\n",
       " 515,\n",
       " 516,\n",
       " 519,\n",
       " 520,\n",
       " 522,\n",
       " 525,\n",
       " 528,\n",
       " 530,\n",
       " 531,\n",
       " 534,\n",
       " 535,\n",
       " 537,\n",
       " 540,\n",
       " 543,\n",
       " 545,\n",
       " 546,\n",
       " 549,\n",
       " 550,\n",
       " 552,\n",
       " 555,\n",
       " 558,\n",
       " 560,\n",
       " 561,\n",
       " 564,\n",
       " 565,\n",
       " 567,\n",
       " 570,\n",
       " 573,\n",
       " 575,\n",
       " 576,\n",
       " 579,\n",
       " 580,\n",
       " 582,\n",
       " 585,\n",
       " 588,\n",
       " 590,\n",
       " 591,\n",
       " 594,\n",
       " 595,\n",
       " 597,\n",
       " 600,\n",
       " 603,\n",
       " 605,\n",
       " 606,\n",
       " 609,\n",
       " 610,\n",
       " 612,\n",
       " 615,\n",
       " 618,\n",
       " 620,\n",
       " 621,\n",
       " 624,\n",
       " 625,\n",
       " 627,\n",
       " 630,\n",
       " 633,\n",
       " 635,\n",
       " 636,\n",
       " 639,\n",
       " 640,\n",
       " 642,\n",
       " 645,\n",
       " 648,\n",
       " 650,\n",
       " 651,\n",
       " 654,\n",
       " 655,\n",
       " 657,\n",
       " 660,\n",
       " 663,\n",
       " 665,\n",
       " 666,\n",
       " 669,\n",
       " 670,\n",
       " 672,\n",
       " 675,\n",
       " 678,\n",
       " 680,\n",
       " 681,\n",
       " 684,\n",
       " 685,\n",
       " 687,\n",
       " 690,\n",
       " 693,\n",
       " 695,\n",
       " 696,\n",
       " 699,\n",
       " 700,\n",
       " 702,\n",
       " 705,\n",
       " 708,\n",
       " 710,\n",
       " 711,\n",
       " 714,\n",
       " 715,\n",
       " 717,\n",
       " 720,\n",
       " 723,\n",
       " 725,\n",
       " 726,\n",
       " 729,\n",
       " 730,\n",
       " 732,\n",
       " 735,\n",
       " 738,\n",
       " 740,\n",
       " 741,\n",
       " 744,\n",
       " 745,\n",
       " 747,\n",
       " 750,\n",
       " 753,\n",
       " 755,\n",
       " 756,\n",
       " 759,\n",
       " 760,\n",
       " 762,\n",
       " 765,\n",
       " 768,\n",
       " 770,\n",
       " 771,\n",
       " 774,\n",
       " 775,\n",
       " 777,\n",
       " 780,\n",
       " 783,\n",
       " 785,\n",
       " 786,\n",
       " 789,\n",
       " 790,\n",
       " 792,\n",
       " 795,\n",
       " 798,\n",
       " 800,\n",
       " 801,\n",
       " 804,\n",
       " 805,\n",
       " 807,\n",
       " 810,\n",
       " 813,\n",
       " 815,\n",
       " 816,\n",
       " 819,\n",
       " 820,\n",
       " 822,\n",
       " 825,\n",
       " 828,\n",
       " 830,\n",
       " 831,\n",
       " 834,\n",
       " 835,\n",
       " 837,\n",
       " 840,\n",
       " 843,\n",
       " 845,\n",
       " 846,\n",
       " 849,\n",
       " 850,\n",
       " 852,\n",
       " 855,\n",
       " 858,\n",
       " 860,\n",
       " 861,\n",
       " 864,\n",
       " 865,\n",
       " 867,\n",
       " 870,\n",
       " 873,\n",
       " 875,\n",
       " 876,\n",
       " 879,\n",
       " 880,\n",
       " 882,\n",
       " 885,\n",
       " 888,\n",
       " 890,\n",
       " 891,\n",
       " 894,\n",
       " 895,\n",
       " 897,\n",
       " 900,\n",
       " 903,\n",
       " 905,\n",
       " 906,\n",
       " 909,\n",
       " 910,\n",
       " 912,\n",
       " 915,\n",
       " 918,\n",
       " 920,\n",
       " 921,\n",
       " 924,\n",
       " 925,\n",
       " 927,\n",
       " 930,\n",
       " 933,\n",
       " 935,\n",
       " 936,\n",
       " 939,\n",
       " 940,\n",
       " 942,\n",
       " 945,\n",
       " 948,\n",
       " 950,\n",
       " 951,\n",
       " 954,\n",
       " 955,\n",
       " 957,\n",
       " 960,\n",
       " 963,\n",
       " 965,\n",
       " 966,\n",
       " 969,\n",
       " 970,\n",
       " 972,\n",
       " 975,\n",
       " 978,\n",
       " 980,\n",
       " 981,\n",
       " 984,\n",
       " 985,\n",
       " 987,\n",
       " 990,\n",
       " 993,\n",
       " 995,\n",
       " 996,\n",
       " 999]"
      ]
     },
     "execution_count": 86,
     "metadata": {},
     "output_type": "execute_result"
    }
   ],
   "source": [
    "[i for i in range(1,1000) if (i%3==0)|(i%5==0)]"
   ]
  },
  {
   "cell_type": "markdown",
   "metadata": {},
   "source": [
    "# 問題➎  \n",
    "http://odz.sakura.ne.jp/projecteuler/     \n",
    "13195 の素因数は 5, 7, 13, 29 である.\n",
    "\n",
    "600851475143 の素因数のうち最大のものを求めよ."
   ]
  },
  {
   "cell_type": "code",
   "execution_count": 98,
   "metadata": {},
   "outputs": [
    {
     "data": {
      "text/plain": [
       "6857"
      ]
     },
     "execution_count": 98,
     "metadata": {},
     "output_type": "execute_result"
    }
   ],
   "source": [
    "#Num=13195\n",
    "Num=600851475143\n",
    "tmp=np.arange(2,int(np.sqrt(Num))+2)\n",
    "max([i for i in tmp[Num%tmp==0] if (i%np.arange(2,i)!=0).all()])\n",
    "    "
   ]
  },
  {
   "cell_type": "markdown",
   "metadata": {},
   "source": [
    "# 問題➏\n",
    "http://odz.sakura.ne.jp/projecteuler/     \n",
    "フィボナッチ数列の項は前の2つの項の和である. 最初の2項を 1, 2 とすれば, 最初の10項は以下の通りである.\n",
    "\n",
    "1, 2, 3, 5, 8, 13, 21, 34, 55, 89, ...\n",
    "数列の項の値が400万以下の, 偶数値の項の総和を求めよ."
   ]
  },
  {
   "cell_type": "code",
   "execution_count": 1,
   "metadata": {
    "scrolled": true
   },
   "outputs": [
    {
     "data": {
      "text/plain": [
       "[1,\n",
       " 2,\n",
       " 3,\n",
       " 5,\n",
       " 8,\n",
       " 13,\n",
       " 21,\n",
       " 34,\n",
       " 55,\n",
       " 89,\n",
       " 144,\n",
       " 233,\n",
       " 377,\n",
       " 610,\n",
       " 987,\n",
       " 1597,\n",
       " 2584,\n",
       " 4181,\n",
       " 6765,\n",
       " 10946,\n",
       " 17711,\n",
       " 28657,\n",
       " 46368,\n",
       " 75025,\n",
       " 121393,\n",
       " 196418,\n",
       " 317811,\n",
       " 514229,\n",
       " 832040,\n",
       " 1346269,\n",
       " 2178309,\n",
       " 3524578]"
      ]
     },
     "execution_count": 1,
     "metadata": {},
     "output_type": "execute_result"
    }
   ],
   "source": [
    "fibonacci=[1,2]\n",
    "while True:\n",
    "    if sum(fibonacci[-2:])>4*10**6:\n",
    "        break\n",
    "    fibonacci.append(sum(fibonacci[-2:]))\n",
    "fibonacci"
   ]
  },
  {
   "cell_type": "code",
   "execution_count": 3,
   "metadata": {},
   "outputs": [
    {
     "data": {
      "text/plain": [
       "4613732"
      ]
     },
     "execution_count": 3,
     "metadata": {},
     "output_type": "execute_result"
    }
   ],
   "source": [
    "sum([ele for ele in fibonacci if ele%2==0])"
   ]
  },
  {
   "cell_type": "markdown",
   "metadata": {},
   "source": [
    "# 問題➐-1\n",
    "assetsフォルダに画像が2つあります。読み込んで表示してください。     \n",
    "次に、画像のデータの形を表示してください。     \n",
    "     \n",
    "画像の読み込みに使えるライブラリは以下のようにたくさんあります。\n",
    "- Pillow https://pillow.readthedocs.io/en/stable/\n",
    "- opencv https://pypi.org/project/opencv-python/\n",
    "- scikit image https://scikit-image.org/"
   ]
  },
  {
   "cell_type": "code",
   "execution_count": null,
   "metadata": {},
   "outputs": [],
   "source": []
  },
  {
   "cell_type": "code",
   "execution_count": null,
   "metadata": {},
   "outputs": [],
   "source": []
  },
  {
   "cell_type": "markdown",
   "metadata": {},
   "source": [
    "# 問題➐-2\n",
    "読み込んだ画像を緑、青、赤のみで表示してください。    \n",
    "画像は先ほど見たように縦×横×色のデータになっています。     \n",
    "      \n",
    "それができたら画像をグレースケールにしてください。以下の式に当てはめるとグレースケール化できます。        \n",
    "Y = 0.2126R + 0.7152G + 0.0722B\n"
   ]
  },
  {
   "cell_type": "code",
   "execution_count": null,
   "metadata": {},
   "outputs": [],
   "source": []
  },
  {
   "cell_type": "code",
   "execution_count": null,
   "metadata": {},
   "outputs": [],
   "source": []
  },
  {
   "cell_type": "markdown",
   "metadata": {},
   "source": [
    "# 問題➑-1\n",
    "\n",
    "\n",
    "夏のオリンピックCSVデータがassetフォルダにあります。    \n",
    "pandasのread_csvメソッドで読み込めます。    \n",
    "     \n",
    "データのサイズも確認しましょう。\n"
   ]
  },
  {
   "cell_type": "code",
   "execution_count": null,
   "metadata": {},
   "outputs": [],
   "source": []
  },
  {
   "cell_type": "code",
   "execution_count": null,
   "metadata": {},
   "outputs": [],
   "source": []
  },
  {
   "cell_type": "markdown",
   "metadata": {},
   "source": [
    "# 問題➑-2\n",
    "\n",
    "これまでの日本の金メダリスト数を可視化しましょう。    \n",
    "可視化ツールには以下のものがあります。    \n",
    "matplotlib : 言わずと知れた　https://matplotlib.org/     \n",
    "seaborn : matplotlibのラッパ https://seaborn.pydata.org/      \n",
    "plotly : インタラクティブ https://plot.ly/python/      \n",
    "plotly.express : plotlyのラッパ https://plot.ly/python/plotly-express/     \n",
    "altair : インタラクティブ https://altair-viz.github.io/gallery/index.html"
   ]
  },
  {
   "cell_type": "code",
   "execution_count": null,
   "metadata": {},
   "outputs": [],
   "source": []
  },
  {
   "cell_type": "code",
   "execution_count": null,
   "metadata": {},
   "outputs": [],
   "source": []
  },
  {
   "cell_type": "markdown",
   "metadata": {},
   "source": [
    "# 問題➑-3\n",
    "\n",
    "日本の競技あたりの金メダル数を可視化しましょう。"
   ]
  },
  {
   "cell_type": "code",
   "execution_count": null,
   "metadata": {},
   "outputs": [],
   "source": []
  },
  {
   "cell_type": "code",
   "execution_count": null,
   "metadata": {},
   "outputs": [],
   "source": []
  },
  {
   "cell_type": "markdown",
   "metadata": {},
   "source": [
    "# 問題➒\n",
    "DNAにコードされる遺伝情報は4つの文字（G,A,T,C）の並びで表されます。    \n",
    "この文字のことを塩基と呼び、DNA文字列のことをDNA塩基配列と呼びます。    \n",
    "塩基配列の長さは塩基数（単位： bp）で表記する習わしです。    \n",
    "メートル単位で、km = 1000 m とする様に、DNAの長さも 1 kbp = 1000 bpと表記します。    \n",
    "DNAの物質としての性質を決める因子としてGC含有率があります。    \n",
    "これは塩基配列内の「C」または「G」が占める割合によって与えられます。    \n",
    "    \n",
    "例：「AGCTATAG」のGCコンテンツは37.5％です。    \n",
    "     \n",
    "DNA配列をtextファイルに記載して、データベースに収載するときにIDを付ける必要があります。    \n",
    "一般に使用されるID付き書式は、FASTA形式と呼ばれます。    \n",
    "この書式では、１行目に「>」で始まるID文字列、後続の行には、DNA配列自体が含まれます。    \n",
    "DNA配列は改行を含んでも含まなくてもOKです。     \n",
    "    \n",
    "例：(\" \\ \" は無視して下さい）   \n",
    "\\> NM_6404   \n",
    "CCTGCGGAAGATCGGCACTAGAATAGCCAGAACCGTTTCTCTGAGGCTTCCGGCCTTCCC    \n",
    "TCCCACTAATAATTCTGAGG    \n",
    "\\> NM_6404     \n",
    "CCTGCGGAAGATCGGCACTAGAATAGCCAGAACCGTTTCTCTGAGGCTTCCGGCCTTCCC    \n",
    "TCCCACTAATAATTCTGAGG    \n",
    "\\> NM_5959    \n",
    "CCATCGGTAGCGCATCCTTAGTCCAATTAAGTCCCTATCCAGGCGCTCCGCCGAAGGTCT    \n",
    "ATATCCATTTGTCAGCAGACACGC    \n",
    "     \n",
    "上記の様に、複数の配列を続けて記載した場合を、multi-FASTA形式と呼ぶこともあります。    \n",
    "    \n",
    "１）最大10個のG,A,T,Cのランダムな配列を作成し、それをDNA配列とみなして    、\n",
    "適当なID名を付けたmulti-FASTA形式ファイルを作成してください（長さはそれぞれ最大1 kbpとします）。    \n",
    "２）1)のファイルを元に、GC含有率が最も高い塩基配列のIDとその配列のGC含有率、配列の長さを返り値とするコードを書いてください。    \n"
   ]
  },
  {
   "cell_type": "code",
   "execution_count": 16,
   "metadata": {},
   "outputs": [
    {
     "name": "stdout",
     "output_type": "stream",
     "text": [
      "/home/minioneskyblue/Documents/hanpy-dojo-202001\r\n"
     ]
    }
   ],
   "source": [
    "!pwd"
   ]
  },
  {
   "cell_type": "code",
   "execution_count": 23,
   "metadata": {
    "scrolled": true
   },
   "outputs": [
    {
     "data": {
      "text/plain": [
       "'>NM_0¥nCTCTCCGAAGCAGACCTAGCCTGAGTAGCCTTTCTAATGGCGTTCGCGGGAACATTTACACGAACGATATAACCGTCTTCGGAGGTTGTCGGATGGTACGGTCACCATTCATCTTAGGCTTTTAGAAATAACACAGGTCTCCAGTGCTATTCTGGAAACCAGCTCTACCTGCTGAGTCGACTCTCTAATTTCACGGGCTTGACGGAGCGGAGTCCACATCTTCAACCGGTGTCGACGTATGTTGCCCATATGCACGGTGTCACCAATCACTATAATTAGCAATATCATCAGTCACTACTTCTCGTCACCCCGAACACTGACAGGCACTTTAGTTTGCTCGGAACTCAGAGCGTCTCAACCCGTCTAAATCGCCATGAGGGCCTGCAATCGAGAAGATCGCCTGCCTTAAATATGCCTCTCCCGGCAGTGGATCGAGCATCTCTATGTCGTACGTCTCTGGCAATAATCTCTAAATGCCCATCTTCTAACGTTTAGACCTGTGTTGCCTTAGATTAACAGCGATCAAGCGGCCGCGGGGCAATCGGCCAGACTTGACAACCCGAACTGCCCTAGTATTCATGGTCCGCGAGGAATGCCTGAAGGCCACGTCTCCGGATAGTTTAACGACAATCCCTCAGGCACCCAACGGTGAGCACAGGTTAATTAGCGAGAGACCCGGAAACGACATTGTAGAGTTTGGGGAATCCGGTGTTAGAATGGATCCAGCGCCGATGAGTACAGGCACCAGTCGCGTCACCGAACGTTATTGCCCGACAAAAATAAAATAGATTCATCCGTCTAACAATTTCAACAAAGTACCCGACATGGATGCCCATACGGGCTGTATCCGGCGATAAGGTAGTGAACTGATGTTGCTTAAAAAGTCCGGGGCTGGACTTTCCTCCTGATCCCGGTGTGTACCGGGCA¥n>NM_1¥nAGCCCGTAGCGGTCACCCGACCTACTTTGCGGGTATCCAGATGGATCGGTAAGTGTAACGTACTTAGCCTAATTTATCCGCGGTCCCGATCACGCGATCCCGGTTCCCGGCGGAGTAAAATAAAGATACCGGGGTATATGGACCCCACATTGGGAATTATAACAATGCTGTTGGGACAACGACTGAAGCCCCAGCGGCGTCGGAGCTGATACGAAGAATTTGACCAGGAAGGGCGATTAGTAGGTAAATCAATAGCGCTTAGTTTCTTTGCTGCACATGCGCAATGGGAATTGTCCAATTCGGCCTGAGTGCGACCGGACGCATTTATCCCACTACGTACCTAAAGATTCTTGCGGGGCCGATATGTAAACTACCGGCCCCTTGGCTGACCCAAGATCTTCTATAAACCGGCGAGCTGTCATAGTACGGCTGCTAAAGGTGATCTTCATACATGGCCCATGTATGTCGCCCCTCGCGTTCAAATACGGTTCCTACTACGTACAGCCGCACTAACTAGGATATCTTCGCGCAGTATAGGTCGGTCAATGACGGGGGCAAATCCTTGCCCGCGAACCTTACGAGGCCCATTAGCTGTAATATTACTTGGTACCAGTTCGTGTTCACGCACCTAGGCAGTGCCTTTTTTCTCGCTCCAGACCCTCAAACCCCCATAAGACGGATTTACTGCTCGAGAATAGGTTCATCAATGTTGAGGAACACTAATACTTGCTCAAGGCTCAATGCTGTATAATCACCATCTACACGGTGCAACCAACCTGCCTAGGGCTTTCTTACCCGAAATACTTTGCACTGAAGGAATGCCAACATACTTCCTACCGGCGCATGAGAGTTTGAATAATTCAACCGGTTAAATCAAAGGCCAACG¥n>NM_2¥nCTCGTTGATGTTTACCCGACTAAGATATTGGGCTCTGAAGACGATAGTTTCTTACAAGACCTAGAATACATGTCCAAACATCCGGCCCTGTGTAATGTGCTACAAACAGGGCCATATCTACGTATCGAGTGTTATAGTATCAGGTAGGACCTCAATCATTGGGACGCTTTGGGAGTCGGGCTTGTGATCAACTACGCAACGCCATGGGTCCCGCACTGAAGATACCCACTCGCGTCCTTGTAAGAGGTGAGTTTCGTATTAGATATCAGTTGAACCACTGTTACCGCTAAGTATTCTTACCATGTACATGGTGACTTACTCGCCCAAGCTGCAAATTGATCAGAGTCCTCTAGCGTGGTAGTGGCTAATAGGCTCGTACACCGAAGCGTTGGAATATGCTTTGGATCCGGGGTATCGGGGCGTTGAGGATTGTGCCCTAACGGTTCATCCGCAGGGAAGGAAAGTGGTCTCCGACCCCATAACAACTTCAGATATTGGTGTAG¥n>NM_3¥nGGTGGACTGTACACTACACCTATATCGTTCAAGCAATCCAGCGGGAGATCTCACTGTTGGTATGCGGGAGACGGCGACGTATTGTGGCATCCCATCAGCCTCGACCGGTTAACCAAACGCTAGGACGACGCGATGGCCAGCGGGCTGAAAGTACGACTCATTAGAGTGCACCGCCGCTGAGCAACTCCATGTCCTGCGCGGACCGGAACTCATCCCGCACGTGATTACAAAATTATTGTGCTTTGTGGTCTGACTACACGATGGAGAAACGATCGGTAAGGTCGGGAAGTTGCTGATATCGGCGGCATCTGCCGTCGTGCCGGCTCGGCCCGCGAACTGCCTTTCAGGTGACCTCCTATATGTCACTCACAAAGTGGGTGCTCCGAAGGTGATCGATACATAATCTTTATCACAATTTGTTAACCAAAGAACACACCGACGCGTAGTGCAGTTTAGTGGTTTCAACAATCGGTGGTCCCCCGCGCCCTGCCCTTGCCCCGGCGGACTACAGGTCCTTCTCAGAATCGTCACGCGGCGGAACCGCTCACGTACAATACGTACCGTTCAAACTGGT¥n>NM_4¥nAGGAAAGGAGTGAGGATAGGTTTAATGTCTAAGCTAGGGGAGTCGACTAGTGGACCTGGAGATATCGTGCAGGCAAGTACGTGCACGACATACCACAGTGCGCTCTACAAAGACTCAGTACAAATAGAGATCTTACGAAAGCACCGCCCAATAACCGTGAATTGATATATGTTATTTATCGTACGCGTCATTGACATCCTAAACTTCTCGGCGCATACTAATAGGACACTTTATAGTAAAGCCCTTGCGTCGCTAGTGTAGACTGATAGCATGACGAAAACTGGTCAGACAGAATCAAGCCGGATTCGAGACACGAAGACATTGGAGCGCAACCCTGACGCAGATTGGGGATGGTTCGACAATCCGGGTTAGCATATTGTTTGAGGCTGCTTCGATTATGTAGACCCTCGCCCGGCATGGGGAAAGGGTTCTTTAGAGTACTTTACTGTAGACAGGCTAGTGTTGCCCATAAGTTACGCGCCTGACAAAACCGAACAATAACACGCAGACAGCCGGCTGTGAAAATATCACTTCAGGAAGAAAAATCTGGGCATCCGTTGCTATCTCTTCCATCCCGGGGGAGGATGAAATGCACGCTAAGAGTGAGTATACGCATTCAACTCGATTGGGAAGTTCCATCCCTGAATCTATTAGAACAGTAATGTGATACAGGGCAGTCCAACTTATATATGGCTGCTTGCGATAGAAGCAAATCCGATTAGCAGAGGCTGGCTAGTTATGATCCCTATAATGTTTAAAATCTTCGGGTGGCACAAGTTCCTTGGATTGAGGTCAGAACATGGATCAGACGCATTCATGATTGGGCGTCATTAGAGTCTAGTCTGGGTCGAGGAGGCGTAGAGGTGTTAGAATTTTTCCTTAAATGCTTGCGAAGATACAGTGGTAAATAGGCCGTGTCGCTTGATCCTGTTTATGCGACCCCCTCGGGA¥n>NM_5¥nGGGAATTCTGCCGAGTCACGGTGGCGTATCATAATCTATTGCAGCCTGGCTCGTCTAGAAACAATACCAACTCGCAATTGAGGTCGCTCATTCGTTACGAGAGTATGGTCTAAGGGTGCAGCCTCCATGTTTCACAGGCGGAAGGGCCATGTAGCTGCAGAGCAGAAGGTCCTATCGATAAGATGTGTTCCGCAACCCGGAGCCGTATAGTGGTTCTCTGTAGGTCTCATCCGTGGCATAGACTAAGCACGTCCCTGTGGAACAGTGCTGAGATACGGTCCTGATCCGAGGGCAAGACCAGGAGGCATAATAATGCTGGGGACCCCGCTTAGTCCTCTTCTACTCGCAACAACTGTGCTGACCGTGGCGGATGGCGTCATGGGTCTCTCCGTGGGAGCTGAAATTCATTGCTTTATCTTTTAATTCCCATCCACGAGAATTCGTTAGCTTCGAATCCCTGCATCAGGCACCCTATTTAGAGGTTTGACAAAACTTCAAATTCACAGTGGCTAAACGCAGATCGATACCCAAATCCGACCTTACTTTCAGGCGCTGCCTACAGCCGCTGGCTTGCCCATGTCCCCTAAGGTGTGCATCTTAATTCTCACTTAGGATGAGAGGACACTTTACTCCGCGATACACGGCGCTGCAGTCCCCGCCTCGTATAGGGCAATCCTAAATAAGCCTAATTT¥n>NM_6¥nAGCCTACCCTGTTGAGCCCTCCTCTGGCAAATCGTGCCGCCAAATATTGATAAGTAGAAAATTTTGCGGCTCACTGCCGAGGTTCCACCGCGGCCGGTAGGATAAACTCGCGGTAGTACTAGGGTGTCGCTTAATA¥n>NM_7¥nGACGTATAAGCGCACGCATTCATGTCACTTACGCTACAAGATGGAAGTGTATGAAGCCACTCTAGCGCAAATTATGAGGTGCTTATGATACCAACAGCGTGCGATACTTCACCGAGCTACACTGGTATGCCTTTCATGGCTATGGGAAATTTGGGGTATATACACTGAGTACCTAAATCATTACAAGGTTAATTGACCTTGCCCGCGTGCAATATTTCGTTATCTTAGGAAACGGGAGGCATGCCTGCCTACATCGGATAGATTCAAAATGTAGTCATTTGTTGACTAATCCCCGCGTGGATTAAATAATTGCTTTTCCGGGGGGGGCTTGTTTCCCCTCTTG¥n>NM_8¥nCCAAGAGGACGTGTCCGCTATCTTATCCGAGGACTTTCTACACGGTATCTGCACCAGAGACAGACGAGGCGATTACTTCAACCTCCGGCCGTACATAAACCATTCCAA¥n>NM_9¥nTCAAAAGTACTCACGACCGTCCGCGCAGTTCGAGTTAGATACCCGCAGACTCCTAGCTTCCTGCCAAGGAACCCACGCTCTCGTGACGGAAATAAAGGTCAAACTGTGATTGCCACAAAGGAACATCTAGCTGATCATACTGTTAGGATATTTGTGTAGCGGTGTCTTCAGGAACAATTTGTATTCCCGACTGCCCAGAGTATAGTGTACCATGGTGTCACAAACAGGCCTTTAATAACGGATAGACGCTGATGTAGTTACACTGAATGGCATATGAGCCGGACTTGAGCAGCGTCTTTAGTGAAGAGCTGCGATTCTATAGGCAGCGCTCGTTCCCGCACTAAAGGACTTGATTCTCTCAGGCTCTACCTTCCGCTAATATATTAAAACTAACGCGTTAGTTGTCTATAACGGAATGGAGGT'"
      ]
     },
     "execution_count": 23,
     "metadata": {},
     "output_type": "execute_result"
    }
   ],
   "source": [
    "import random\n",
    "str_seed=['G','C','A','T']\n",
    "# for i in range(10):\n",
    "#     print('>NM_%d'%i)\n",
    "#     print(''.join([random.choice(str_seed) for _ in range(random.randrange(100,1000))]))\n",
    "multi_FASTA_str='¥n'.join(['>NM_%d'%i+'¥n'+''.join([random.choice(str_seed)\n",
    "                                                   for _ in range(random.randrange(100,1000))])\n",
    "                          for i in range(10)])\n",
    "with open('./multi-FASTA.txt',mode='w') as f:\n",
    "    f.write(multi_FASTA_str)\n",
    "multi_FASTA_str"
   ]
  },
  {
   "cell_type": "code",
   "execution_count": 40,
   "metadata": {},
   "outputs": [
    {
     "data": {
      "text/plain": [
       "['NM_3', 0.5452961672473867, 574]"
      ]
     },
     "execution_count": 40,
     "metadata": {},
     "output_type": "execute_result"
    }
   ],
   "source": [
    "with open('./multi-FASTA.txt') as f:\n",
    "    multi_FASTA_str2=f.read()\n",
    "multi_FASTA_dic=multi_FASTA_str2.split('¥n')\n",
    "multi_FASTA_dic={key:value for key,value in zip([ele[1:] for i,ele in enumerate(multi_FASTA_dic) if i%2==0],\n",
    "                                                [ele for i,ele in enumerate(multi_FASTA_dic) if i%2!=0])}\n",
    "multi_FASTA_dic_result={key:len([ele for ele in list(value) if ele in ['G','C']])/len(list(value))\n",
    "                        for key,value in multi_FASTA_dic.items()}\n",
    "[[key,value,len(list(multi_FASTA_dic[key]))]\n",
    "  for key,value in multi_FASTA_dic_result.items()\n",
    "  if value==max(multi_FASTA_dic_result.values())][0]"
   ]
  },
  {
   "cell_type": "markdown",
   "metadata": {},
   "source": [
    "# 問題➓\n",
    "https://atcoder.jp/contests/abc081/tasks/abc081_b\n",
    "    \n",
    "【問題概要】\n",
    "黒板に N 個の正の整数 A1,A2…,,…,AN が書かれています。\n",
    "すぬけ君は，黒板に書かれている整数がすべて偶数であるとき，次の操作を行うことができます。\n",
    "\n",
    "黒板に書かれている整数すべてを，2 で割ったものに置き換える。\n",
    "すぬけ君は最大で何回操作を行うことができるかを求めてください。\n",
    "\n",
    "【制約】\n",
    "\n",
    "1≤N≤200\n",
    "1≤Ai≤10^9\n",
    "【数値例】\n",
    "1)\n",
    "　N=3\n",
    "　A=(16,12,24)\n",
    "　答え: 2\n",
    "1 回操作を行うと (8, 6, 12) になります。2 回操作を行うと (4, 3, 6) になります。2 個目の 3 が奇数なため 3 回目の操作は行えません。\n"
   ]
  },
  {
   "cell_type": "code",
   "execution_count": 49,
   "metadata": {},
   "outputs": [
    {
     "name": "stdout",
     "output_type": "stream",
     "text": [
      "2\n"
     ]
    }
   ],
   "source": [
    "import numpy as np\n",
    "N=3\n",
    "A=np.array([8,12,40])\n",
    "i=0\n",
    "while True:\n",
    "    if not (A%2==0).all():\n",
    "        break\n",
    "    A=A//2\n",
    "    i+=1\n",
    "print(i)"
   ]
  },
  {
   "cell_type": "code",
   "execution_count": 50,
   "metadata": {},
   "outputs": [
    {
     "name": "stdout",
     "output_type": "stream",
     "text": [
      "0\n"
     ]
    }
   ],
   "source": [
    "N=4\n",
    "A=np.array([5,6,8,10])\n",
    "i=0\n",
    "while True:\n",
    "    if not (A%2==0).all():\n",
    "        break\n",
    "    A=A//2\n",
    "    i+=1\n",
    "print(i)"
   ]
  },
  {
   "cell_type": "code",
   "execution_count": 51,
   "metadata": {},
   "outputs": [
    {
     "name": "stdout",
     "output_type": "stream",
     "text": [
      "8\n"
     ]
    }
   ],
   "source": [
    "N=6\n",
    "A=np.array([382253568,723152896,37802240,379425024,404894720,471526144])\n",
    "i=0\n",
    "while True:\n",
    "    if not (A%2==0).all():\n",
    "        break\n",
    "    A=A//2\n",
    "    i+=1\n",
    "print(i)"
   ]
  }
 ],
 "metadata": {
  "kernelspec": {
   "display_name": "Python 3",
   "language": "python",
   "name": "python3"
  },
  "language_info": {
   "codemirror_mode": {
    "name": "ipython",
    "version": 3
   },
   "file_extension": ".py",
   "mimetype": "text/x-python",
   "name": "python",
   "nbconvert_exporter": "python",
   "pygments_lexer": "ipython3",
   "version": "3.8.0"
  }
 },
 "nbformat": 4,
 "nbformat_minor": 4
}
